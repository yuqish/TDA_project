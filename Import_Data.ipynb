{
 "cells": [
  {
   "cell_type": "code",
   "execution_count": 1,
   "id": "9b9ae9ee-ae0f-4e7f-b33a-b60c5fe9c6c0",
   "metadata": {},
   "outputs": [],
   "source": [
    "import numpy as np\n",
    "inf=float(\"inf\")\n",
    "\n",
    "import pandas as pd\n",
    "\n",
    "import matplotlib.pyplot as plt\n",
    "plt.style.use('ggplot')\n",
    "\n",
    "import scipy.stats as st\n",
    "\n",
    "import stablerank.srank as sr\n",
    "import stablerank.geometry_objects_2020 as ge\n",
    "\n",
    "from ipywidgets import interact, interactive, fixed, interact_manual\n",
    "import ipywidgets as widgets\n",
    "import _pickle as pickle\n",
    "\n",
    "from ripser import ripser\n",
    "from scipy.cluster.hierarchy import dendrogram, linkage, fcluster\n",
    "\n",
    "from PIL import Image\n",
    "\n",
    "#from keras.datasets import mnist\n",
    "#from matplotlib import pyplot"
   ]
  },
  {
   "cell_type": "markdown",
   "id": "370ef88c-0fd3-46e3-b930-17b067c096ac",
   "metadata": {},
   "source": [
    "### Import Data"
   ]
  },
  {
   "cell_type": "code",
   "execution_count": 2,
   "id": "c6bc7b38-47e2-445e-b722-83a2418d04ce",
   "metadata": {},
   "outputs": [],
   "source": [
    "# loading the data\n",
    "\n",
    "df=pd.read_csv('challenges-in-representation-learning-facial-expression-recognition-challenge/icml_face_data.csv', sep=',')\n",
    "#df=pd.read_csv('challenges-in-representation-learning-facial-expression-recognition-challenge/train.csv', sep=',',header=None)"
   ]
  },
  {
   "cell_type": "code",
   "execution_count": 7,
   "id": "8cd94206-fafa-4aaa-86b5-1b8f61943ece",
   "metadata": {},
   "outputs": [],
   "source": [
    "# Removing duplicate values and reindexing\n",
    "\n",
    "df.drop_duplicates(subset =[\" pixels\"], inplace = True)\n",
    "df=df.reindex(range(0,len(df)-1))"
   ]
  },
  {
   "cell_type": "code",
   "execution_count": 8,
   "id": "97f5797e-c9d3-426f-b0a4-73454cc43256",
   "metadata": {},
   "outputs": [
    {
     "data": {
      "text/html": [
       "<div>\n",
       "<style scoped>\n",
       "    .dataframe tbody tr th:only-of-type {\n",
       "        vertical-align: middle;\n",
       "    }\n",
       "\n",
       "    .dataframe tbody tr th {\n",
       "        vertical-align: top;\n",
       "    }\n",
       "\n",
       "    .dataframe thead th {\n",
       "        text-align: right;\n",
       "    }\n",
       "</style>\n",
       "<table border=\"1\" class=\"dataframe\">\n",
       "  <thead>\n",
       "    <tr style=\"text-align: right;\">\n",
       "      <th></th>\n",
       "      <th>emotion</th>\n",
       "      <th>Usage</th>\n",
       "      <th>pixels</th>\n",
       "    </tr>\n",
       "  </thead>\n",
       "  <tbody>\n",
       "    <tr>\n",
       "      <th>0</th>\n",
       "      <td>0.0</td>\n",
       "      <td>Training</td>\n",
       "      <td>70 80 82 72 58 58 60 63 54 58 60 48 89 115 121...</td>\n",
       "    </tr>\n",
       "    <tr>\n",
       "      <th>1</th>\n",
       "      <td>0.0</td>\n",
       "      <td>Training</td>\n",
       "      <td>151 150 147 155 148 133 111 140 170 174 182 15...</td>\n",
       "    </tr>\n",
       "    <tr>\n",
       "      <th>2</th>\n",
       "      <td>2.0</td>\n",
       "      <td>Training</td>\n",
       "      <td>231 212 156 164 174 138 161 173 182 200 106 38...</td>\n",
       "    </tr>\n",
       "    <tr>\n",
       "      <th>3</th>\n",
       "      <td>4.0</td>\n",
       "      <td>Training</td>\n",
       "      <td>24 32 36 30 32 23 19 20 30 41 21 22 32 34 21 1...</td>\n",
       "    </tr>\n",
       "    <tr>\n",
       "      <th>4</th>\n",
       "      <td>6.0</td>\n",
       "      <td>Training</td>\n",
       "      <td>4 0 0 0 0 0 0 0 0 0 0 0 3 15 23 28 48 50 58 84...</td>\n",
       "    </tr>\n",
       "    <tr>\n",
       "      <th>...</th>\n",
       "      <td>...</td>\n",
       "      <td>...</td>\n",
       "      <td>...</td>\n",
       "    </tr>\n",
       "    <tr>\n",
       "      <th>34028</th>\n",
       "      <td>0.0</td>\n",
       "      <td>PrivateTest</td>\n",
       "      <td>157 157 157 157 156 156 155 155 157 155 155 14...</td>\n",
       "    </tr>\n",
       "    <tr>\n",
       "      <th>34029</th>\n",
       "      <td>3.0</td>\n",
       "      <td>PrivateTest</td>\n",
       "      <td>24 33 41 48 48 58 75 95 110 139 158 172 178 18...</td>\n",
       "    </tr>\n",
       "    <tr>\n",
       "      <th>34030</th>\n",
       "      <td>5.0</td>\n",
       "      <td>PrivateTest</td>\n",
       "      <td>42 70 65 49 34 33 34 39 58 61 86 86 68 93 76 5...</td>\n",
       "    </tr>\n",
       "    <tr>\n",
       "      <th>34031</th>\n",
       "      <td>0.0</td>\n",
       "      <td>PrivateTest</td>\n",
       "      <td>49 47 51 60 60 61 66 70 74 74 70 63 65 75 69 6...</td>\n",
       "    </tr>\n",
       "    <tr>\n",
       "      <th>34032</th>\n",
       "      <td>4.0</td>\n",
       "      <td>PrivateTest</td>\n",
       "      <td>39 43 49 49 47 46 35 24 23 27 29 24 23 31 27 2...</td>\n",
       "    </tr>\n",
       "  </tbody>\n",
       "</table>\n",
       "<p>34033 rows × 3 columns</p>\n",
       "</div>"
      ],
      "text/plain": [
       "       emotion        Usage                                             pixels\n",
       "0          0.0     Training  70 80 82 72 58 58 60 63 54 58 60 48 89 115 121...\n",
       "1          0.0     Training  151 150 147 155 148 133 111 140 170 174 182 15...\n",
       "2          2.0     Training  231 212 156 164 174 138 161 173 182 200 106 38...\n",
       "3          4.0     Training  24 32 36 30 32 23 19 20 30 41 21 22 32 34 21 1...\n",
       "4          6.0     Training  4 0 0 0 0 0 0 0 0 0 0 0 3 15 23 28 48 50 58 84...\n",
       "...        ...          ...                                                ...\n",
       "34028      0.0  PrivateTest  157 157 157 157 156 156 155 155 157 155 155 14...\n",
       "34029      3.0  PrivateTest  24 33 41 48 48 58 75 95 110 139 158 172 178 18...\n",
       "34030      5.0  PrivateTest  42 70 65 49 34 33 34 39 58 61 86 86 68 93 76 5...\n",
       "34031      0.0  PrivateTest  49 47 51 60 60 61 66 70 74 74 70 63 65 75 69 6...\n",
       "34032      4.0  PrivateTest  39 43 49 49 47 46 35 24 23 27 29 24 23 31 27 2...\n",
       "\n",
       "[34033 rows x 3 columns]"
      ]
     },
     "execution_count": 8,
     "metadata": {},
     "output_type": "execute_result"
    }
   ],
   "source": [
    "# Inspecting the Dataframe\n",
    "\n",
    "df"
   ]
  },
  {
   "cell_type": "code",
   "execution_count": 389,
   "id": "dbf6f58f-afbc-4259-88ac-85fbfc485263",
   "metadata": {},
   "outputs": [
    {
     "data": {
      "image/png": "[encoded data removed]",
      "text/plain": [
       "<PIL.Image.Image image mode=L size=48x48 at 0x7FDEF2070430>"
      ]
     },
     "execution_count": 389,
     "metadata": {},
     "output_type": "execute_result"
    }
   ],
   "source": [
    "# Printing the first picture\n",
    "first_picture = [int(numeric_string) for numeric_string in df[\" pixels\"][0].split(' ')]\n",
    "first_picture_arr = np.array(first_picture)\n",
    "first_picture_arr.resize((48,48))\n",
    "im = Image.fromarray((255-first_picture_arr* 255).astype(np.uint8))\n",
    "im"
   ]
  }
 ],
 "metadata": {
  "kernelspec": {
   "display_name": "Python 3",
   "language": "python",
   "name": "python3"
  },
  "language_info": {
   "codemirror_mode": {
    "name": "ipython",
    "version": 3
   },
   "file_extension": ".py",
   "mimetype": "text/x-python",
   "name": "python",
   "nbconvert_exporter": "python",
   "pygments_lexer": "ipython3",
   "version": "3.8.10"
  }
 },
 "nbformat": 4,
 "nbformat_minor": 5
}
