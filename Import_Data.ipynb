{
 "cells": [
  {
   "cell_type": "code",
   "execution_count": 2,
   "id": "9b9ae9ee-ae0f-4e7f-b33a-b60c5fe9c6c0",
   "metadata": {},
   "outputs": [],
   "source": [
    "import numpy as np\n",
    "inf=float(\"inf\")\n",
    "\n",
    "import pandas as pd\n",
    "\n",
    "import matplotlib.pyplot as plt\n",
    "plt.style.use('ggplot')\n",
    "\n",
    "import scipy.stats as st\n",
    "\n",
    "#import stablerank.srank as sr\n",
    "#import stablerank.geometry_objects_2020 as ge\n",
    "\n",
    "from ipywidgets import interact, interactive, fixed, interact_manual\n",
    "import ipywidgets as widgets\n",
    "import _pickle as pickle\n",
    "\n",
    "from ripser import ripser\n",
    "from scipy.cluster.hierarchy import dendrogram, linkage, fcluster\n",
    "\n",
    "from PIL import Image\n",
    "\n",
    "#from keras.datasets import mnist\n",
    "#from matplotlib import pyplot"
   ]
  },
  {
   "cell_type": "markdown",
   "id": "370ef88c-0fd3-46e3-b930-17b067c096ac",
   "metadata": {},
   "source": [
    "### Import Data"
   ]
  },
  {
   "cell_type": "code",
   "execution_count": 3,
   "id": "c6bc7b38-47e2-445e-b722-83a2418d04ce",
   "metadata": {},
   "outputs": [],
   "source": [
    "df=pd.read_csv('challenges-in-representation-learning-facial-expression-recognition-challenge/icml_face_data.csv', sep=',',header=None)"
   ]
  },
  {
   "cell_type": "code",
   "execution_count": 18,
   "id": "371439e2-e3f5-45bd-b42d-209cc8d602fc",
   "metadata": {},
   "outputs": [
    {
     "data": {
      "text/html": [
       "<div>\n",
       "<style scoped>\n",
       "    .dataframe tbody tr th:only-of-type {\n",
       "        vertical-align: middle;\n",
       "    }\n",
       "\n",
       "    .dataframe tbody tr th {\n",
       "        vertical-align: top;\n",
       "    }\n",
       "\n",
       "    .dataframe thead th {\n",
       "        text-align: right;\n",
       "    }\n",
       "</style>\n",
       "<table border=\"1\" class=\"dataframe\">\n",
       "  <thead>\n",
       "    <tr style=\"text-align: right;\">\n",
       "      <th></th>\n",
       "      <th>0</th>\n",
       "      <th>1</th>\n",
       "      <th>2</th>\n",
       "    </tr>\n",
       "  </thead>\n",
       "  <tbody>\n",
       "    <tr>\n",
       "      <th>0</th>\n",
       "      <td>emotion</td>\n",
       "      <td>Usage</td>\n",
       "      <td>pixels</td>\n",
       "    </tr>\n",
       "    <tr>\n",
       "      <th>1</th>\n",
       "      <td>0</td>\n",
       "      <td>Training</td>\n",
       "      <td>70 80 82 72 58 58 60 63 54 58 60 48 89 115 121...</td>\n",
       "    </tr>\n",
       "    <tr>\n",
       "      <th>2</th>\n",
       "      <td>0</td>\n",
       "      <td>Training</td>\n",
       "      <td>151 150 147 155 148 133 111 140 170 174 182 15...</td>\n",
       "    </tr>\n",
       "    <tr>\n",
       "      <th>3</th>\n",
       "      <td>2</td>\n",
       "      <td>Training</td>\n",
       "      <td>231 212 156 164 174 138 161 173 182 200 106 38...</td>\n",
       "    </tr>\n",
       "    <tr>\n",
       "      <th>4</th>\n",
       "      <td>4</td>\n",
       "      <td>Training</td>\n",
       "      <td>24 32 36 30 32 23 19 20 30 41 21 22 32 34 21 1...</td>\n",
       "    </tr>\n",
       "    <tr>\n",
       "      <th>...</th>\n",
       "      <td>...</td>\n",
       "      <td>...</td>\n",
       "      <td>...</td>\n",
       "    </tr>\n",
       "    <tr>\n",
       "      <th>35883</th>\n",
       "      <td>6</td>\n",
       "      <td>PrivateTest</td>\n",
       "      <td>50 36 17 22 23 29 33 39 34 37 37 37 39 43 48 5...</td>\n",
       "    </tr>\n",
       "    <tr>\n",
       "      <th>35884</th>\n",
       "      <td>3</td>\n",
       "      <td>PrivateTest</td>\n",
       "      <td>178 174 172 173 181 188 191 194 196 199 200 20...</td>\n",
       "    </tr>\n",
       "    <tr>\n",
       "      <th>35885</th>\n",
       "      <td>0</td>\n",
       "      <td>PrivateTest</td>\n",
       "      <td>17 17 16 23 28 22 19 17 25 26 20 24 31 19 27 9...</td>\n",
       "    </tr>\n",
       "    <tr>\n",
       "      <th>35886</th>\n",
       "      <td>3</td>\n",
       "      <td>PrivateTest</td>\n",
       "      <td>30 28 28 29 31 30 42 68 79 81 77 67 67 71 63 6...</td>\n",
       "    </tr>\n",
       "    <tr>\n",
       "      <th>35887</th>\n",
       "      <td>2</td>\n",
       "      <td>PrivateTest</td>\n",
       "      <td>19 13 14 12 13 16 21 33 50 57 71 84 97 108 122...</td>\n",
       "    </tr>\n",
       "  </tbody>\n",
       "</table>\n",
       "<p>35888 rows × 3 columns</p>\n",
       "</div>"
      ],
      "text/plain": [
       "             0            1                                                  2\n",
       "0      emotion        Usage                                             pixels\n",
       "1            0     Training  70 80 82 72 58 58 60 63 54 58 60 48 89 115 121...\n",
       "2            0     Training  151 150 147 155 148 133 111 140 170 174 182 15...\n",
       "3            2     Training  231 212 156 164 174 138 161 173 182 200 106 38...\n",
       "4            4     Training  24 32 36 30 32 23 19 20 30 41 21 22 32 34 21 1...\n",
       "...        ...          ...                                                ...\n",
       "35883        6  PrivateTest  50 36 17 22 23 29 33 39 34 37 37 37 39 43 48 5...\n",
       "35884        3  PrivateTest  178 174 172 173 181 188 191 194 196 199 200 20...\n",
       "35885        0  PrivateTest  17 17 16 23 28 22 19 17 25 26 20 24 31 19 27 9...\n",
       "35886        3  PrivateTest  30 28 28 29 31 30 42 68 79 81 77 67 67 71 63 6...\n",
       "35887        2  PrivateTest  19 13 14 12 13 16 21 33 50 57 71 84 97 108 122...\n",
       "\n",
       "[35888 rows x 3 columns]"
      ]
     },
     "execution_count": 18,
     "metadata": {},
     "output_type": "execute_result"
    }
   ],
   "source": [
    "df"
   ]
  },
  {
   "cell_type": "code",
   "execution_count": 19,
   "id": "dbf6f58f-afbc-4259-88ac-85fbfc485263",
   "metadata": {},
   "outputs": [],
   "source": [
    "#df[2][3].split(' ')\n",
    "first_picture = [int(numeric_string) for numeric_string in df[2][2].split(' ')]"
   ]
  },
  {
   "cell_type": "code",
   "execution_count": 20,
   "id": "e1ff964a-d7f8-423c-98d2-30f1af8fe263",
   "metadata": {},
   "outputs": [],
   "source": [
    "first_picture_arr = np.array(first_picture)"
   ]
  },
  {
   "cell_type": "code",
   "execution_count": 21,
   "id": "037b49aa-50ff-44a0-aee4-fb489788f8dd",
   "metadata": {},
   "outputs": [
    {
     "data": {
      "text/plain": [
       "array([151, 150, 147, ..., 193, 183, 184])"
      ]
     },
     "execution_count": 21,
     "metadata": {},
     "output_type": "execute_result"
    }
   ],
   "source": [
    "first_picture_arr"
   ]
  },
  {
   "cell_type": "code",
   "execution_count": 22,
   "id": "61927e95-3724-4f98-8d7b-8fe2d0cd5860",
   "metadata": {},
   "outputs": [
    {
     "data": {
      "image/png": "[encoded data removed]",
      "text/plain": [
       "<PIL.Image.Image image mode=L size=48x48 at 0x7FD800CA0250>"
      ]
     },
     "execution_count": 22,
     "metadata": {},
     "output_type": "execute_result"
    }
   ],
   "source": [
    "first_picture_arr.resize((48,48))\n",
    "im = Image.fromarray((255-first_picture_arr* 255).astype(np.uint8))\n",
    "im"
   ]
  },
  {
   "cell_type": "code",
   "execution_count": 23,
   "id": "f6e8eef1-a1db-4096-900a-ed9d2a7ad95c",
   "metadata": {},
   "outputs": [],
   "source": [
    "#im.save(\"image2.png\")"
   ]
  },
  {
   "cell_type": "markdown",
   "id": "496814de-fb1e-44b5-ac49-2bd379fa7901",
   "metadata": {},
   "source": [
    "### First Representation"
   ]
  },
  {
   "cell_type": "code",
   "execution_count": null,
   "id": "5e2cb919-9d72-456e-bd09-82b00884a6ee",
   "metadata": {},
   "outputs": [],
   "source": []
  }
 ],
 "metadata": {
  "kernelspec": {
   "display_name": "Python 3",
   "language": "python",
   "name": "python3"
  },
  "language_info": {
   "codemirror_mode": {
    "name": "ipython",
    "version": 3
   },
   "file_extension": ".py",
   "mimetype": "text/x-python",
   "name": "python",
   "nbconvert_exporter": "python",
   "pygments_lexer": "ipython3",
   "version": "3.8.10"
  }
 },
 "nbformat": 4,
 "nbformat_minor": 5
}
