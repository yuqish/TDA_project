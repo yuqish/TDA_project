{
 "cells": [
  {
   "cell_type": "code",
   "execution_count": 1,
   "id": "9b9ae9ee-ae0f-4e7f-b33a-b60c5fe9c6c0",
   "metadata": {},
   "outputs": [],
   "source": [
    "import numpy as np\n",
    "inf=float(\"inf\")\n",
    "\n",
    "import pandas as pd\n",
    "\n",
    "import matplotlib.pyplot as plt\n",
    "plt.style.use('ggplot')\n",
    "\n",
    "import scipy.stats as st\n",
    "\n",
    "import stablerank.srank as sr\n",
    "import stablerank.geometry_objects_2020 as ge\n",
    "\n",
    "from ipywidgets import interact, interactive, fixed, interact_manual\n",
    "import ipywidgets as widgets\n",
    "import _pickle as pickle\n",
    "\n",
    "from ripser import ripser\n",
    "from scipy.cluster.hierarchy import dendrogram, linkage, fcluster\n",
    "\n",
    "from PIL import Image\n",
    "\n",
    "#from keras.datasets import mnist\n",
    "#from matplotlib import pyplot"
   ]
  },
  {
   "cell_type": "markdown",
   "id": "370ef88c-0fd3-46e3-b930-17b067c096ac",
   "metadata": {},
   "source": [
    "### Import Data"
   ]
  },
  {
   "cell_type": "code",
   "execution_count": 2,
   "id": "c6bc7b38-47e2-445e-b722-83a2418d04ce",
   "metadata": {},
   "outputs": [],
   "source": [
    "# loading the data\n",
    "\n",
    "df=pd.read_csv('challenges-in-representation-learning-facial-expression-recognition-challenge/icml_face_data.csv', sep=',')\n",
    "#df=pd.read_csv('challenges-in-representation-learning-facial-expression-recognition-challenge/train.csv', sep=',',header=None)"
   ]
  },
  {
   "cell_type": "code",
   "execution_count": 7,
   "id": "8cd94206-fafa-4aaa-86b5-1b8f61943ece",
   "metadata": {},
   "outputs": [],
   "source": [
    "# Removing duplicate values and reindexing\n",
    "\n",
    "df.drop_duplicates(subset =[\" pixels\"], inplace = True)\n",
    "df=df.reindex(range(0,len(df)-1))"
   ]
  },
  {
   "cell_type": "code",
   "execution_count": 8,
   "id": "97f5797e-c9d3-426f-b0a4-73454cc43256",
   "metadata": {},
   "outputs": [
    {
     "data": {
      "text/html": [
       "<div>\n",
       "<style scoped>\n",
       "    .dataframe tbody tr th:only-of-type {\n",
       "        vertical-align: middle;\n",
       "    }\n",
       "\n",
       "    .dataframe tbody tr th {\n",
       "        vertical-align: top;\n",
       "    }\n",
       "\n",
       "    .dataframe thead th {\n",
       "        text-align: right;\n",
       "    }\n",
       "</style>\n",
       "<table border=\"1\" class=\"dataframe\">\n",
       "  <thead>\n",
       "    <tr style=\"text-align: right;\">\n",
       "      <th></th>\n",
       "      <th>emotion</th>\n",
       "      <th>Usage</th>\n",
       "      <th>pixels</th>\n",
       "    </tr>\n",
       "  </thead>\n",
       "  <tbody>\n",
       "    <tr>\n",
       "      <th>0</th>\n",
       "      <td>0.0</td>\n",
       "      <td>Training</td>\n",
       "      <td>70 80 82 72 58 58 60 63 54 58 60 48 89 115 121...</td>\n",
       "    </tr>\n",
       "    <tr>\n",
       "      <th>1</th>\n",
       "      <td>0.0</td>\n",
       "      <td>Training</td>\n",
       "      <td>151 150 147 155 148 133 111 140 170 174 182 15...</td>\n",
       "    </tr>\n",
       "    <tr>\n",
       "      <th>2</th>\n",
       "      <td>2.0</td>\n",
       "      <td>Training</td>\n",
       "      <td>231 212 156 164 174 138 161 173 182 200 106 38...</td>\n",
       "    </tr>\n",
       "    <tr>\n",
       "      <th>3</th>\n",
       "      <td>4.0</td>\n",
       "      <td>Training</td>\n",
       "      <td>24 32 36 30 32 23 19 20 30 41 21 22 32 34 21 1...</td>\n",
       "    </tr>\n",
       "    <tr>\n",
       "      <th>4</th>\n",
       "      <td>6.0</td>\n",
       "      <td>Training</td>\n",
       "      <td>4 0 0 0 0 0 0 0 0 0 0 0 3 15 23 28 48 50 58 84...</td>\n",
       "    </tr>\n",
       "    <tr>\n",
       "      <th>...</th>\n",
       "      <td>...</td>\n",
       "      <td>...</td>\n",
       "      <td>...</td>\n",
       "    </tr>\n",
       "    <tr>\n",
       "      <th>34028</th>\n",
       "      <td>0.0</td>\n",
       "      <td>PrivateTest</td>\n",
       "      <td>157 157 157 157 156 156 155 155 157 155 155 14...</td>\n",
       "    </tr>\n",
       "    <tr>\n",
       "      <th>34029</th>\n",
       "      <td>3.0</td>\n",
       "      <td>PrivateTest</td>\n",
       "      <td>24 33 41 48 48 58 75 95 110 139 158 172 178 18...</td>\n",
       "    </tr>\n",
       "    <tr>\n",
       "      <th>34030</th>\n",
       "      <td>5.0</td>\n",
       "      <td>PrivateTest</td>\n",
       "      <td>42 70 65 49 34 33 34 39 58 61 86 86 68 93 76 5...</td>\n",
       "    </tr>\n",
       "    <tr>\n",
       "      <th>34031</th>\n",
       "      <td>0.0</td>\n",
       "      <td>PrivateTest</td>\n",
       "      <td>49 47 51 60 60 61 66 70 74 74 70 63 65 75 69 6...</td>\n",
       "    </tr>\n",
       "    <tr>\n",
       "      <th>34032</th>\n",
       "      <td>4.0</td>\n",
       "      <td>PrivateTest</td>\n",
       "      <td>39 43 49 49 47 46 35 24 23 27 29 24 23 31 27 2...</td>\n",
       "    </tr>\n",
       "  </tbody>\n",
       "</table>\n",
       "<p>34033 rows × 3 columns</p>\n",
       "</div>"
      ],
      "text/plain": [
       "       emotion        Usage                                             pixels\n",
       "0          0.0     Training  70 80 82 72 58 58 60 63 54 58 60 48 89 115 121...\n",
       "1          0.0     Training  151 150 147 155 148 133 111 140 170 174 182 15...\n",
       "2          2.0     Training  231 212 156 164 174 138 161 173 182 200 106 38...\n",
       "3          4.0     Training  24 32 36 30 32 23 19 20 30 41 21 22 32 34 21 1...\n",
       "4          6.0     Training  4 0 0 0 0 0 0 0 0 0 0 0 3 15 23 28 48 50 58 84...\n",
       "...        ...          ...                                                ...\n",
       "34028      0.0  PrivateTest  157 157 157 157 156 156 155 155 157 155 155 14...\n",
       "34029      3.0  PrivateTest  24 33 41 48 48 58 75 95 110 139 158 172 178 18...\n",
       "34030      5.0  PrivateTest  42 70 65 49 34 33 34 39 58 61 86 86 68 93 76 5...\n",
       "34031      0.0  PrivateTest  49 47 51 60 60 61 66 70 74 74 70 63 65 75 69 6...\n",
       "34032      4.0  PrivateTest  39 43 49 49 47 46 35 24 23 27 29 24 23 31 27 2...\n",
       "\n",
       "[34033 rows x 3 columns]"
      ]
     },
     "execution_count": 8,
     "metadata": {},
     "output_type": "execute_result"
    }
   ],
   "source": [
    "# Inspecting the Dataframe\n",
    "\n",
    "df"
   ]
  },
  {
   "cell_type": "code",
   "execution_count": 389,
   "id": "dbf6f58f-afbc-4259-88ac-85fbfc485263",
   "metadata": {},
   "outputs": [
    {
     "data": {
      "image/png": "[encoded data removed]",
      "text/plain": [
       "<PIL.Image.Image image mode=L size=48x48 at 0x7FDEF2070430>"
      ]
     },
     "execution_count": 389,
     "metadata": {},
     "output_type": "execute_result"
    }
   ],
   "source": [
    "# Printing the first picture\n",
    "first_picture = [int(numeric_string) for numeric_string in df[\" pixels\"][0].split(' ')]\n",
    "first_picture_arr = np.array(first_picture)\n",
    "first_picture_arr.resize((48,48))\n",
    "im = Image.fromarray((255-first_picture_arr* 255).astype(np.uint8))\n",
    "im"
   ]
  },
  {
   "cell_type": "markdown",
   "id": "496814de-fb1e-44b5-ac49-2bd379fa7901",
   "metadata": {},
   "source": [
    "## $H_0$ Stable Ranks for Embedding 1"
   ]
  },
  {
   "cell_type": "code",
   "execution_count": 29,
   "id": "5e2cb919-9d72-456e-bd09-82b00884a6ee",
   "metadata": {
    "tags": []
   },
   "outputs": [
    {
     "ename": "IndexError",
     "evalue": "index 0 is out of bounds for axis 0 with size 0",
     "output_type": "error",
     "traceback": [
      "\u001b[0;31m---------------------------------------------------------------------------\u001b[0m",
      "\u001b[0;31mIndexError\u001b[0m                                Traceback (most recent call last)",
      "\u001b[0;32m<ipython-input-29-27a7cef5652b>\u001b[0m in \u001b[0;36m<module>\u001b[0;34m\u001b[0m\n\u001b[1;32m     36\u001b[0m \u001b[0;34m\u001b[0m\u001b[0m\n\u001b[1;32m     37\u001b[0m         \u001b[0;31m# Add the pcf to the overall pcf but weighted to get the overall average in the end\u001b[0m\u001b[0;34m\u001b[0m\u001b[0;34m\u001b[0m\u001b[0;34m\u001b[0m\u001b[0m\n\u001b[0;32m---> 38\u001b[0;31m         \u001b[0mf_pcf\u001b[0m \u001b[0;34m=\u001b[0m \u001b[0mf_pcf\u001b[0m \u001b[0;34m+\u001b[0m \u001b[0mpoint_cloud\u001b[0m\u001b[0;34m.\u001b[0m\u001b[0mget_h0sr\u001b[0m\u001b[0;34m(\u001b[0m\u001b[0mmetric\u001b[0m \u001b[0;34m=\u001b[0m \u001b[0mmetric\u001b[0m\u001b[0;34m,\u001b[0m \u001b[0mmetric_parameter\u001b[0m \u001b[0;34m=\u001b[0m \u001b[0mmetric_parameter\u001b[0m\u001b[0;34m)\u001b[0m\u001b[0;34m*\u001b[0m\u001b[0;34m(\u001b[0m\u001b[0;36m1\u001b[0m\u001b[0;34m/\u001b[0m\u001b[0mnumber_of_times\u001b[0m\u001b[0;34m)\u001b[0m\u001b[0;34m\u001b[0m\u001b[0;34m\u001b[0m\u001b[0m\n\u001b[0m\u001b[1;32m     39\u001b[0m \u001b[0;34m\u001b[0m\u001b[0m\n\u001b[1;32m     40\u001b[0m     \u001b[0;31m# plot the average pcf\u001b[0m\u001b[0;34m\u001b[0m\u001b[0;34m\u001b[0m\u001b[0;34m\u001b[0m\u001b[0m\n",
      "\u001b[0;32m~/Documents/Studium/Master/1. WS 2122/Topological Data Analysis/Project/stablerank/rtorf.py\u001b[0m in \u001b[0;36m__add__\u001b[0;34m(self, other)\u001b[0m\n\u001b[1;32m     82\u001b[0m                 \u001b[0;32mreturn\u001b[0m \u001b[0mPcf\u001b[0m\u001b[0;34m(\u001b[0m\u001b[0mc\u001b[0m\u001b[0;34m)\u001b[0m\u001b[0;34m\u001b[0m\u001b[0;34m\u001b[0m\u001b[0m\n\u001b[1;32m     83\u001b[0m         \u001b[0;32melif\u001b[0m \u001b[0misinstance\u001b[0m\u001b[0;34m(\u001b[0m\u001b[0mother\u001b[0m\u001b[0;34m,\u001b[0m \u001b[0mPcf\u001b[0m\u001b[0;34m)\u001b[0m\u001b[0;34m:\u001b[0m\u001b[0;34m\u001b[0m\u001b[0;34m\u001b[0m\u001b[0m\n\u001b[0;32m---> 84\u001b[0;31m             \u001b[0mf\u001b[0m \u001b[0;34m=\u001b[0m \u001b[0mself\u001b[0m\u001b[0;34m.\u001b[0m\u001b[0m_extend\u001b[0m\u001b[0;34m(\u001b[0m\u001b[0mother\u001b[0m\u001b[0;34m.\u001b[0m\u001b[0mcontent\u001b[0m\u001b[0;34m[\u001b[0m\u001b[0;36m0\u001b[0m\u001b[0;34m]\u001b[0m\u001b[0;34m)\u001b[0m\u001b[0;34m\u001b[0m\u001b[0;34m\u001b[0m\u001b[0m\n\u001b[0m\u001b[1;32m     85\u001b[0m             \u001b[0mg\u001b[0m \u001b[0;34m=\u001b[0m \u001b[0mother\u001b[0m\u001b[0;34m.\u001b[0m\u001b[0m_extend\u001b[0m\u001b[0;34m(\u001b[0m\u001b[0mself\u001b[0m\u001b[0;34m.\u001b[0m\u001b[0mcontent\u001b[0m\u001b[0;34m[\u001b[0m\u001b[0;36m0\u001b[0m\u001b[0;34m]\u001b[0m\u001b[0;34m)\u001b[0m\u001b[0;34m\u001b[0m\u001b[0;34m\u001b[0m\u001b[0m\n\u001b[1;32m     86\u001b[0m             \u001b[0mc\u001b[0m \u001b[0;34m=\u001b[0m \u001b[0mnp\u001b[0m\u001b[0;34m.\u001b[0m\u001b[0mvstack\u001b[0m\u001b[0;34m(\u001b[0m\u001b[0;34m(\u001b[0m\u001b[0mf\u001b[0m\u001b[0;34m[\u001b[0m\u001b[0;36m0\u001b[0m\u001b[0;34m]\u001b[0m\u001b[0;34m,\u001b[0m \u001b[0mf\u001b[0m\u001b[0;34m[\u001b[0m\u001b[0;36m1\u001b[0m\u001b[0;34m]\u001b[0m \u001b[0;34m+\u001b[0m \u001b[0mg\u001b[0m\u001b[0;34m[\u001b[0m\u001b[0;36m1\u001b[0m\u001b[0;34m]\u001b[0m\u001b[0;34m)\u001b[0m\u001b[0;34m)\u001b[0m\u001b[0;34m\u001b[0m\u001b[0;34m\u001b[0m\u001b[0m\n",
      "\u001b[0;32m~/Documents/Studium/Master/1. WS 2122/Topological Data Analysis/Project/stablerank/rtorf.py\u001b[0m in \u001b[0;36m_extend\u001b[0;34m(self, d)\u001b[0m\n\u001b[1;32m     46\u001b[0m \u001b[0;34m\u001b[0m\u001b[0m\n\u001b[1;32m     47\u001b[0m     \u001b[0;32mdef\u001b[0m \u001b[0m_extend\u001b[0m\u001b[0;34m(\u001b[0m\u001b[0mself\u001b[0m\u001b[0;34m,\u001b[0m \u001b[0md\u001b[0m\u001b[0;34m)\u001b[0m\u001b[0;34m:\u001b[0m\u001b[0;34m\u001b[0m\u001b[0;34m\u001b[0m\u001b[0m\n\u001b[0;32m---> 48\u001b[0;31m         \u001b[0mdom\u001b[0m \u001b[0;34m=\u001b[0m \u001b[0mself\u001b[0m\u001b[0;34m.\u001b[0m\u001b[0mcontent\u001b[0m\u001b[0;34m[\u001b[0m\u001b[0;36m0\u001b[0m\u001b[0;34m]\u001b[0m\u001b[0;34m\u001b[0m\u001b[0;34m\u001b[0m\u001b[0m\n\u001b[0m\u001b[1;32m     49\u001b[0m         \u001b[0mdomain\u001b[0m \u001b[0;34m=\u001b[0m \u001b[0mnp\u001b[0m\u001b[0;34m.\u001b[0m\u001b[0munique\u001b[0m\u001b[0;34m(\u001b[0m\u001b[0mnp\u001b[0m\u001b[0;34m.\u001b[0m\u001b[0mconcatenate\u001b[0m\u001b[0;34m(\u001b[0m\u001b[0;34m[\u001b[0m\u001b[0mdom\u001b[0m\u001b[0;34m,\u001b[0m \u001b[0md\u001b[0m\u001b[0;34m]\u001b[0m\u001b[0;34m)\u001b[0m\u001b[0;34m)\u001b[0m\u001b[0;34m\u001b[0m\u001b[0;34m\u001b[0m\u001b[0m\n\u001b[1;32m     50\u001b[0m         \u001b[0mparameters\u001b[0m \u001b[0;34m=\u001b[0m \u001b[0mnp\u001b[0m\u001b[0;34m.\u001b[0m\u001b[0msearchsorted\u001b[0m\u001b[0;34m(\u001b[0m\u001b[0mdom\u001b[0m\u001b[0;34m,\u001b[0m \u001b[0mdomain\u001b[0m\u001b[0;34m,\u001b[0m \u001b[0mside\u001b[0m\u001b[0;34m=\u001b[0m\u001b[0;34m'right'\u001b[0m\u001b[0;34m)\u001b[0m\u001b[0;34m-\u001b[0m\u001b[0;36m1\u001b[0m\u001b[0;34m\u001b[0m\u001b[0;34m\u001b[0m\u001b[0m\n",
      "\u001b[0;31mIndexError\u001b[0m: index 0 is out of bounds for axis 0 with size 0"
     ]
    },
    {
     "data": {
      "text/plain": [
       "<Figure size 1440x1440 with 0 Axes>"
      ]
     },
     "metadata": {},
     "output_type": "display_data"
    }
   ],
   "source": [
    "#0=Angry, 1=Disgust, 2=Fear, 3=Happy, 4=Sad, 5=Surprise, 6=Neutral\n",
    "emotion_categories = [0,1,2,3,4,5,6]\n",
    "colours=[\"red\",\"blue\",\"yellow\",\"orange\",\"green\",\"black\",\"purple\"]\n",
    "\n",
    "# specifying the number of pictures for subsampling\n",
    "number_of_pictures = 100 # How many pictures per subsampling\n",
    "number_of_times = 2 # How often to perform subsampling for each emotion\n",
    "\n",
    "# specifying metric\n",
    "metric = \"cityblock\"\n",
    "metric_parameter = 3\n",
    "\n",
    "# specifying clustering method\n",
    "clustering_method = \"single\"\n",
    "\n",
    "plt.figure(figsize=(20,20))\n",
    "\n",
    "for e in emotion_categories:\n",
    "    # Initialize empty pcf\n",
    "    f_pcf=sr.Pcnif(np.array([]))\n",
    "    \n",
    "    for k in range(1,number_of_times):\n",
    "        # Subsampling the positions\n",
    "        pos = np.array(np.where(df[\"emotion\"]==e))[0]\n",
    "        rand_pos = pos[list(np.random.permutation(np.arange(0,len(pos)-1))[:number_of_pictures])]\n",
    "\n",
    "        # Preparing an empty array to convert the pixel vectors from string to float\n",
    "        points_dummy = np.empty((len(rand_pos),48*48), int)\n",
    "\n",
    "        for i in range(0,len(rand_pos)):\n",
    "            points_dummy[i] = [int(numeric_string) for numeric_string in df[\" pixels\"][rand_pos[i]].split(' ')]\n",
    "\n",
    "        # Create the point cloud\n",
    "        points = np.vstack(points_dummy)\n",
    "        point_cloud = sr.EucObject(points)\n",
    "\n",
    "        # Add the pcf to the overall pcf but weighted to get the overall average in the end\n",
    "        f_pcf = f_pcf + point_cloud.get_h0sr(metric = metric, metric_parameter = metric_parameter)*(1/number_of_times)\n",
    "    \n",
    "    # plot the average pcf\n",
    "    f_pcf.plot(color=colours[emotion_categories.index(e)])\n",
    "\n",
    "    #print(\"size: \", point_cloud.size)\n",
    "    #print(\"dimension: \", point_cloud.dim)\n",
    "    #print(\"points: \", point_cloud.points)"
   ]
  },
  {
   "cell_type": "markdown",
   "id": "d82bc027-1d3d-439b-b0ed-e1e53cd16df7",
   "metadata": {},
   "source": [
    "## Homology for Embedding 1"
   ]
  },
  {
   "cell_type": "code",
   "execution_count": null,
   "id": "e15b05ad-20c8-4fb6-acca-1e1fde1a107f",
   "metadata": {},
   "outputs": [],
   "source": [
    "#metrics = [\"euclidean\", \"cityblock\", \"hamming\", \"chebyshev\", \"cosine\"]\n",
    "metrics = [\"euclidean\"]\n",
    "\n",
    "pos = np.array(np.where(df[\"emotion\"]==5))[0]\n",
    "rand_pos = pos[list(np.random.permutation(np.arange(0,len(pos)-1))[:100])]\n",
    "points_dummy = np.empty((len(rand_pos),48*48), int)\n",
    "\n",
    "for i in range(0,len(rand_pos)):\n",
    "    points_dummy[i] = [int(numeric_string) for numeric_string in df[\" pixels\"][rand_pos[i]].split(' ')]\n",
    "\n",
    "points = np.vstack(points_dummy)\n",
    "em = sr.EucObject(points)\n",
    "\n",
    "\n",
    "D ={}\n",
    "for m in metrics:\n",
    "    D[m] = em.get_distance(metric = m)\n",
    "\n",
    "maxdim = 3\n",
    "coeff = 2\n",
    "for m in metrics:\n",
    "    bc = D[m].get_bc(maxdim = maxdim, coeff = coeff)\n",
    "    fig=plt.figure(m, figsize = (20,10))\n",
    "    fig.suptitle(m, fontsize=16)\n",
    "    #ax=plt.subplot(1,2,1)\n",
    "    #ax.set_title(\"H0\")\n",
    "    #bc[\"H0\"].plot()\n",
    "    #ax=plt.subplot(1,2,2)\n",
    "    #ax.set_title(\"H1\")\n",
    "    #bc[\"H1\"].plot()\n",
    "    ax=plt.subplot(1,2,1)\n",
    "    ax.set_title(\"H2\")\n",
    "    bc[\"H2\"].plot()\n",
    "    ax=plt.subplot(1,2,2)\n",
    "    ax.set_title(\"H3\")\n",
    "    bc[\"H3\"].plot()"
   ]
  },
  {
   "cell_type": "markdown",
   "id": "e41ce12f-b410-4877-85d8-1f348efcab82",
   "metadata": {},
   "source": [
    "### Try out area"
   ]
  },
  {
   "cell_type": "code",
   "execution_count": 391,
   "id": "e11d3b11-a634-4b63-ab08-1b556de18fda",
   "metadata": {
    "tags": []
   },
   "outputs": [],
   "source": [
    "#Schmierblatt\n",
    "\n",
    "pos = np.array(np.where(df[\"emotion\"]==3))[0]\n",
    "rand_pos = pos[list(np.random.permutation(np.arange(0,len(pos)-1))[:20])]\n",
    "points_dummy = np.empty((len(rand_pos),48*48), int)\n",
    "\n",
    "for i in range(0,len(rand_pos)):\n",
    "    points_dummy[i] = [int(numeric_string) for numeric_string in df[\" pixels\"][rand_pos[i]].split(' ')]\n",
    "\n",
    "#points = np.vstack(points_dummy)\n",
    "#df[\" pixels\"].loc[pos]"
   ]
  },
  {
   "cell_type": "code",
   "execution_count": 392,
   "id": "1daef306-a9c0-4973-b901-84b784c5a997",
   "metadata": {
    "tags": []
   },
   "outputs": [
    {
     "name": "stdout",
     "output_type": "stream",
     "text": [
      "size:  20\n",
      "dimension:  2304\n",
      "points:  [[ 16.  14.  15. ... 136. 111. 129.]\n",
      " [254. 252. 254. ...  15.  22.  29.]\n",
      " [ 52.  61.  60. ...  49.  43.  43.]\n",
      " ...\n",
      " [ 88.  93.  94. ...  94.  92.  95.]\n",
      " [158. 189. 198. ... 173. 153. 135.]\n",
      " [ 78.  52.  45. ...  60.  28.  38.]]\n"
     ]
    }
   ],
   "source": [
    "angry = sr.EucObject(points)\n",
    "print(\"size: \", angry.size)\n",
    "print(\"dimension: \", angry.dim)\n",
    "print(\"points: \", angry.points)"
   ]
  },
  {
   "cell_type": "code",
   "execution_count": 413,
   "id": "9f2ea594-18ca-4733-9e69-12492b190d0f",
   "metadata": {
    "tags": []
   },
   "outputs": [
    {
     "ename": "AttributeError",
     "evalue": "'Pcnif' object has no attribute 'save'",
     "output_type": "error",
     "traceback": [
      "\u001b[0;31m---------------------------------------------------------------------------\u001b[0m",
      "\u001b[0;31mAttributeError\u001b[0m                            Traceback (most recent call last)",
      "\u001b[0;32m<ipython-input-413-2543bcf31750>\u001b[0m in \u001b[0;36m<module>\u001b[0;34m\u001b[0m\n\u001b[1;32m     13\u001b[0m \u001b[0;34m\u001b[0m\u001b[0m\n\u001b[1;32m     14\u001b[0m \u001b[0;31m#f1.plot(color =\"blue\")\u001b[0m\u001b[0;34m\u001b[0m\u001b[0;34m\u001b[0m\u001b[0;34m\u001b[0m\u001b[0m\n\u001b[0;32m---> 15\u001b[0;31m \u001b[0mf1\u001b[0m\u001b[0;34m.\u001b[0m\u001b[0msave\u001b[0m\u001b[0;34m(\u001b[0m\u001b[0;34m)\u001b[0m\u001b[0;34m\u001b[0m\u001b[0;34m\u001b[0m\u001b[0m\n\u001b[0m",
      "\u001b[0;31mAttributeError\u001b[0m: 'Pcnif' object has no attribute 'save'"
     ]
    }
   ],
   "source": [
    "# specifying metric\n",
    "metric = \"minkowski\"\n",
    "metric_parameter = 3\n",
    "\n",
    "# specifying clustering method\n",
    "clustering_method = \"complete\"\n",
    "\n",
    "\n",
    "f1 = angry.get_h0sr(metric = metric, metric_parameter = metric_parameter)\n",
    "\n",
    "\n",
    "#plt.figure(figsize=(20,20))\n",
    "\n",
    "#f1.plot(color =\"blue\")"
   ]
  },
  {
   "cell_type": "code",
   "execution_count": 14,
   "id": "f3169f31-1c02-40ee-bd46-1860f0cd6af2",
   "metadata": {},
   "outputs": [
    {
     "data": {
      "text/plain": [
       "<stablerank.rtorf.Pcf at 0x7fcd20270220>"
      ]
     },
     "execution_count": 14,
     "metadata": {},
     "output_type": "execute_result"
    }
   ],
   "source": [
    "sr.Pcf(np.array([]))"
   ]
  }
 ],
 "metadata": {
  "kernelspec": {
   "display_name": "Python 3",
   "language": "python",
   "name": "python3"
  },
  "language_info": {
   "codemirror_mode": {
    "name": "ipython",
    "version": 3
   },
   "file_extension": ".py",
   "mimetype": "text/x-python",
   "name": "python",
   "nbconvert_exporter": "python",
   "pygments_lexer": "ipython3",
   "version": "3.8.10"
  }
 },
 "nbformat": 4,
 "nbformat_minor": 5
}
