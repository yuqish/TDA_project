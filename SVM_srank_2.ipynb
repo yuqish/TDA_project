{
 "cells": [
  {
   "cell_type": "code",
   "execution_count": 1,
   "id": "f92c8626-39f9-48ed-9118-a41a8e991066",
   "metadata": {},
   "outputs": [],
   "source": [
    "import numpy as np\n",
    "import matplotlib.pyplot as plt\n",
    "from sklearn import svm\n",
    "import pandas as pd\n",
    "import ast"
   ]
  },
  {
   "cell_type": "markdown",
   "id": "35a9c67c-7047-4d48-ae41-e10f7e33abde",
   "metadata": {},
   "source": [
    "### Select data"
   ]
  },
  {
   "cell_type": "code",
   "execution_count": 6,
   "id": "fdb8208c-9767-4c3a-89a5-9b8aee13f673",
   "metadata": {},
   "outputs": [],
   "source": [
    "df3=pd.read_csv('Results/happy_100images_H0.csv', sep=',')[0:100]\n",
    "df4=pd.read_csv('Results/angry_100images_H0.csv', sep=',')[0:100]"
   ]
  },
  {
   "cell_type": "markdown",
   "id": "e2912b3e-4f14-4862-8878-22cd3a98b980",
   "metadata": {},
   "source": [
    "### Select Train/Test Split"
   ]
  },
  {
   "cell_type": "code",
   "execution_count": 12,
   "id": "a810b7b3-a24f-4812-8653-e6381327a793",
   "metadata": {},
   "outputs": [],
   "source": [
    "Train = 80\n",
    "Test = 100-train"
   ]
  },
  {
   "cell_type": "markdown",
   "id": "458cb26d-2ed1-40af-b86d-96909340cf15",
   "metadata": {},
   "source": [
    "### Fit SVM"
   ]
  },
  {
   "cell_type": "code",
   "execution_count": 13,
   "id": "50285281-c09b-472c-b910-06f5747db168",
   "metadata": {},
   "outputs": [],
   "source": [
    "## Get data in correct shape\n",
    "\n",
    "x2 = []\n",
    "\n",
    "for i in range(Train):\n",
    "    c1_temp = df3[\"content 1\"][i]\n",
    "    c1 = [float(x) for x in c1_temp[1:-1].split()]\n",
    "    c2_temp = df3[\"content 2\"][i]\n",
    "    c2 = [float(x) for x in c2_temp[1:-1].split()]\n",
    "    ce = [c1, c2]\n",
    "    x2.append(ce)\n",
    "for i in range(Train):\n",
    "    c1_temp = df4[\"content 1\"][i]\n",
    "    c1 = [float(x) for x in c1_temp[1:-1].split()]\n",
    "    c2_temp = df4[\"content 2\"][i]\n",
    "    c2 = [float(x) for x in c2_temp[1:-1].split()]\n",
    "    ce = [c1, c2]\n",
    "    x2.append(ce)\n",
    "\n",
    "y1 = np.ones(Train)\n",
    "y2 = np.zeros(Train)\n",
    "y2_train = np.concatenate((y1, y2))"
   ]
  },
  {
   "cell_type": "code",
   "execution_count": 9,
   "id": "1a7acbaa-855c-4839-9a4b-2d959e1f4e55",
   "metadata": {},
   "outputs": [],
   "source": [
    "### Define kernels\n",
    "\n",
    "def srank_kernel(X, Y):\n",
    "    \"\"\"\n",
    "    We create a custom stable rank kernel\n",
    "    ref: JENS AGERBERG, Statistical Learning and Analysis on Homology-Based Features\n",
    "    X,Y: stable rank array input data\n",
    "    \"\"\"\n",
    "    t_union = np.union1d(X[0], Y[0])\n",
    "    tY_diff = np.setdiff1d(Y[0], X[0]) #t in Y but not in X\n",
    "    tX_diff = np.setdiff1d(X[0], Y[0]) #t in X but not in Y\n",
    "    M1 = np.zeros(len(t_union))\n",
    "    M2 = np.zeros(len(t_union))\n",
    "    x_offset = 0\n",
    "    y_offset = 0\n",
    "    for i in range(len(t_union)):\n",
    "        if t_union[i] <= X[0][-1] and t_union[i] == X[0][i-x_offset]:\n",
    "            M1[i] = X[1][i-x_offset]\n",
    "        else:\n",
    "            x_offset = x_offset + 1\n",
    "            M1[i] = X[1][i-x_offset]\n",
    "            \n",
    "        if t_union[i] <= Y[0][-1] and t_union[i] == Y[0][i-y_offset]:\n",
    "            M2[i] = Y[1][i-y_offset]\n",
    "        else:\n",
    "            y_offset = y_offset + 1\n",
    "            M2[i] = Y[1][i-y_offset]\n",
    "    t_diff = np.ediff1d(t_union)\n",
    "    return np.dot(np.multiply(M1[0:len(M1)-1], M2[0:len(M2)-1]), t_diff)\n",
    "\n",
    "#this requires return a Gram matrix\n",
    "def proxy_kernel(X,Y):\n",
    "    gram_matrix = np.zeros((len(X), len(Y)))\n",
    "    for i, x in enumerate(X):\n",
    "        for j, y in enumerate(Y):\n",
    "            gram_matrix[i, j] = srank_kernel(x, y)\n",
    "    return gram_matrix"
   ]
  },
  {
   "cell_type": "code",
   "execution_count": 10,
   "id": "33a8dd5c-beb3-4ec3-b77e-d0de090e3a91",
   "metadata": {},
   "outputs": [
    {
     "data": {
      "text/plain": [
       "SVC(kernel=<function proxy_kernel at 0x7fca78e12c10>)"
      ]
     },
     "execution_count": 10,
     "metadata": {},
     "output_type": "execute_result"
    }
   ],
   "source": [
    "### Fit svm\n",
    "\n",
    "svm = svm.SVC(kernel=proxy_kernel)\n",
    "svm.fit(x2, y2_train)"
   ]
  },
  {
   "cell_type": "markdown",
   "id": "23903bea-30cf-45c0-8581-2181e5aacc98",
   "metadata": {},
   "source": [
    "## Calculate Classification Accuracy"
   ]
  },
  {
   "cell_type": "code",
   "execution_count": 14,
   "id": "6abc7a55-40a9-4723-9d4a-4e063c765b98",
   "metadata": {},
   "outputs": [],
   "source": [
    "x3 = []\n",
    "x4 = []\n",
    "\n",
    "for i in range(Train+1,100):\n",
    "    c1_temp = df3[\"content 1\"][i]\n",
    "    c1 = [float(x) for x in c1_temp[1:-1].split()]\n",
    "    c2_temp = df3[\"content 2\"][i]\n",
    "    c2 = [float(x) for x in c2_temp[1:-1].split()]\n",
    "    ce = [c1, c2]\n",
    "    x3.append(ce)\n",
    "for i in range(Train+1,100):\n",
    "    c1_temp = df4[\"content 1\"][i]\n",
    "    c1 = [float(x) for x in c1_temp[1:-1].split()]\n",
    "    c2_temp = df4[\"content 2\"][i]\n",
    "    c2 = [float(x) for x in c2_temp[1:-1].split()]\n",
    "    ce = [c1, c2]\n",
    "    x4.append(ce)"
   ]
  },
  {
   "cell_type": "code",
   "execution_count": 18,
   "id": "f0e22616-1ddc-41f6-abe6-f773e0edb880",
   "metadata": {},
   "outputs": [],
   "source": [
    "Acc = (sum(svm.predict(x3))/Train + (1-sum(svm.predict(x4))/Train))/2"
   ]
  },
  {
   "cell_type": "code",
   "execution_count": 19,
   "id": "e78e15f2-e3ab-46bc-9693-2272714a5751",
   "metadata": {},
   "outputs": [
    {
     "data": {
      "text/plain": [
       "0.5125"
      ]
     },
     "execution_count": 19,
     "metadata": {},
     "output_type": "execute_result"
    }
   ],
   "source": [
    "Acc"
   ]
  }
 ],
 "metadata": {
  "kernelspec": {
   "display_name": "Python 3",
   "language": "python",
   "name": "python3"
  },
  "language_info": {
   "codemirror_mode": {
    "name": "ipython",
    "version": 3
   },
   "file_extension": ".py",
   "mimetype": "text/x-python",
   "name": "python",
   "nbconvert_exporter": "python",
   "pygments_lexer": "ipython3",
   "version": "3.8.10"
  }
 },
 "nbformat": 4,
 "nbformat_minor": 5
}
