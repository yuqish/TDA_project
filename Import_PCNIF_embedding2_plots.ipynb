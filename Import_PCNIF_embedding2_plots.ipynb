{
 "cells": [
  {
   "cell_type": "code",
   "execution_count": 1,
   "id": "f1707184-006f-4827-9ed3-d4362ae87ad5",
   "metadata": {},
   "outputs": [],
   "source": [
    "import numpy as np\n",
    "inf=float(\"inf\")\n",
    "\n",
    "import pandas as pd\n",
    "\n",
    "import matplotlib.pyplot as plt\n",
    "plt.style.use('ggplot')\n",
    "\n",
    "import scipy.stats as st\n",
    "\n",
    "import stablerank.srank as sr\n",
    "import stablerank.geometry_objects_2020 as ge\n",
    "\n",
    "from ipywidgets import interact, interactive, fixed, interact_manual\n",
    "import ipywidgets as widgets\n",
    "import _pickle as pickle\n",
    "import csv\n",
    "\n",
    "from ripser import ripser\n",
    "from scipy.cluster.hierarchy import dendrogram, linkage, fcluster\n",
    "\n",
    "from PIL import Image\n",
    "from ast import literal_eval\n",
    "import matplotlib\n"
   ]
  },
  {
   "cell_type": "markdown",
   "id": "7f093791-f45e-48f2-aca8-5f03fa74cddc",
   "metadata": {},
   "source": [
    "### Import Training Data - Option 1"
   ]
  },
  {
   "cell_type": "code",
   "execution_count": 2,
   "id": "436b31f9-882e-47d7-8164-605914fa0f6d",
   "metadata": {},
   "outputs": [],
   "source": [
    "#df=pd.read_csv('challenges-in-representation-learning-facial-expression-recognition-challenge/icml_face_data.csv', sep=',')\n",
    "df=pd.read_csv('challenges-in-representation-learning-facial-expression-recognition-challenge/train.csv', sep=',')"
   ]
  },
  {
   "cell_type": "code",
   "execution_count": 3,
   "id": "d8e8ebfe-79fd-4ce2-9d4e-5e4f00e3728b",
   "metadata": {},
   "outputs": [],
   "source": [
    "# Removing duplicate values and reindexing\n",
    "df.drop_duplicates(subset =[\"pixels\"], inplace = True)\n",
    "df=df.reindex(range(0,len(df)-1))"
   ]
  },
  {
   "cell_type": "markdown",
   "id": "7316652d-d22d-46dd-b3f5-42d79b223456",
   "metadata": {},
   "source": [
    "### Import Test Data - Option 2"
   ]
  },
  {
   "cell_type": "code",
   "execution_count": 4,
   "id": "b80a3459-b226-4c62-917c-c03baee9f8dd",
   "metadata": {},
   "outputs": [],
   "source": [
    "df=pd.read_csv('challenges-in-representation-learning-facial-expression-recognition-challenge/test.csv', sep=',')"
   ]
  },
  {
   "cell_type": "code",
   "execution_count": 5,
   "id": "5818f4d2-1ada-4d64-8e86-802d40ea2338",
   "metadata": {},
   "outputs": [],
   "source": [
    "# Removing duplicate values and reindexing\n",
    "df.drop_duplicates(subset =[\"pixels\"], inplace = True)\n",
    "df=df.reindex(range(0,len(df)-1))"
   ]
  },
  {
   "cell_type": "markdown",
   "id": "9a223ca4-c891-4fce-bd91-64ede88d432f",
   "metadata": {},
   "source": [
    "## Try for one image"
   ]
  },
  {
   "cell_type": "code",
   "execution_count": 6,
   "id": "e261f02b-1423-4572-809f-293ea077e8cb",
   "metadata": {},
   "outputs": [],
   "source": [
    "# Take the first picture as an example\n",
    "pixel_values = [int(numeric_string) for numeric_string in df[\"pixels\"][3].split(' ')]\n",
    "\n",
    "image_dummy = np.empty((48*48,3), int)\n",
    "for i in range(0,len(image_dummy)):\n",
    "    image_dummy[i] = [(100/47)*(i-i%48)/48, (100/47)*(i%48), (100/47)*(47*pixel_values[i]/255)]\n",
    "\n",
    "image_stacked = np.vstack(image_dummy)\n",
    "image = sr.EucObject(image_stacked)"
   ]
  },
  {
   "cell_type": "code",
   "execution_count": 7,
   "id": "73b4e432-4d17-4ba3-a3d5-6e8a63e6799a",
   "metadata": {},
   "outputs": [],
   "source": [
    "index = 300\n",
    "degree=\"H1\"\n",
    "md=1\n",
    "\n",
    "# Compute the stable rank as above\n",
    "pixel_values_ti = [int(numeric_string) for numeric_string in df[\"pixels\"][index].split(' ')]\n",
    "image_dummy_ti = np.empty((48*48,3), int)\n",
    "for i in range(0,len(image_dummy_ti)):\n",
    "    image_dummy_ti[i] = [(100/47)*(i-i%48)/48, (100/47)*(i%48), (100/47)*(47*pixel_values_ti[i]/255)]\n",
    "\n",
    "image_stacked_ti = np.vstack(image_dummy_ti)\n",
    "image_ti = sr.EucObject(image_stacked_ti)\n",
    "\n",
    "b_ti = image.get_bc(maxdim=md)\n",
    "S_ti = sr.bc_to_sr(b_ti, degree)\n",
    "\n",
    "content = S_ti.content\n",
    "\n",
    "contents_1 = []\n",
    "contents_1.append(content[0])\n",
    "\n",
    "contents_2 = []\n",
    "contents_2.append(content[1])\n",
    "\n",
    "indeces = []\n",
    "indeces.append(index)\n",
    "\n",
    "data_test = {'old index':indeces, 'content 1':contents_1, 'content 2':contents_2}\n",
    "df_out_test = pd.DataFrame(data_test)"
   ]
  },
  {
   "cell_type": "code",
   "execution_count": 8,
   "id": "6aa790d5-1d80-4237-9940-e15cc599c219",
   "metadata": {},
   "outputs": [],
   "source": [
    "df_out_test.to_csv(\"Results/test.csv\")"
   ]
  },
  {
   "cell_type": "code",
   "execution_count": 4,
   "id": "121dc379-54e0-48bc-8e42-4a0e3440d217",
   "metadata": {},
   "outputs": [],
   "source": [
    "df_angry_h0=pd.read_csv(\"Results/angry_100images_H0.csv\")\n",
    "df_disgust_h0=pd.read_csv(\"Results/disgust_100images_H0.csv\")\n",
    "df_fear_h0=pd.read_csv(\"Results/fear_100images_H0.csv\")\n",
    "df_happy_h0=pd.read_csv(\"Results/happy_100images_H0.csv\")\n",
    "df_sad_h0=pd.read_csv(\"Results/sad_100images_H0.csv\")\n",
    "df_surprise_h0=pd.read_csv(\"Results/surprise_100images_H0.csv\")\n",
    "df_neutral_h0=pd.read_csv(\"Results/neutral_100images_H0.csv\")\n",
    "\n",
    "dict_h0 = dict([('Angry', df_angry_h0), ('Disgust', df_disgust_h0), ('Fear', df_fear_h0), \n",
    "               ('Happy', df_happy_h0), ('Sad', df_sad_h0), ('Surprise', df_surprise_h0),\n",
    "               ('Neutral', df_neutral_h0)])\n",
    "\n",
    "df_angry_h1=pd.read_csv(\"Results/angry_100images_H1.csv\")\n",
    "df_disgust_h1=pd.read_csv(\"Results/disgust_100images_H1.csv\")\n",
    "df_fear_h1=pd.read_csv(\"Results/fear_100images_H1.csv\")\n",
    "df_happy_h1=pd.read_csv(\"Results/happy_100images_H1.csv\")\n",
    "df_sad_h1=pd.read_csv(\"Results/sad_100images_H1.csv\")\n",
    "df_surprise_h1=pd.read_csv(\"Results/surprise_100images_H1.csv\")\n",
    "df_neutral_h1=pd.read_csv(\"Results/neutral_100images_H1.csv\")\n",
    "\n",
    "dict_h1 = dict([('Angry', df_angry_h1), ('Disgust', df_disgust_h1), ('Fear', df_fear_h1), \n",
    "               ('Happy', df_happy_h1), ('Sad', df_sad_h1), ('Surprise', df_surprise_h1),\n",
    "               ('Neutral', df_neutral_h1)])"
   ]
  },
  {
   "cell_type": "markdown",
   "id": "f160d150-5f50-488c-92b5-bb8d0cb820a1",
   "metadata": {},
   "source": [
    "### Reconstructing the PCNIF from the content"
   ]
  },
  {
   "cell_type": "code",
   "execution_count": 5,
   "id": "b50e3220-f992-4328-b49c-51c7e117bed0",
   "metadata": {},
   "outputs": [],
   "source": [
    "c1_temp = dict_h0[\"Angry\"][\"content 1\"][0]\n",
    "c1 = [float(x) for x in c1_temp[1:-1].split()]\n",
    "c2_temp = dict_h0[\"Angry\"][\"content 2\"][0]\n",
    "c2 = [float(x) for x in c2_temp[1:-1].split()]\n",
    "ce = [c1, c2]\n",
    "#### Result\n",
    "res = sr.Pcnif(ce)"
   ]
  },
  {
   "cell_type": "markdown",
   "id": "591983c1",
   "metadata": {},
   "source": [
    "## plot average stable ranks"
   ]
  },
  {
   "cell_type": "code",
   "execution_count": 18,
   "id": "7856daee",
   "metadata": {},
   "outputs": [
    {
     "data": {
      "image/png": "[encoded data removed]",
      "text/plain": [
       "<Figure size 720x720 with 1 Axes>"
      ]
     },
     "metadata": {},
     "output_type": "display_data"
    }
   ],
   "source": [
    "# Color code and select emotion categories\n",
    "emotion_categories = [0,1,2,3,4,5,6]\n",
    "#emotion_categories = [1,3]\n",
    "emotion_names = [\"Angry\", \"Disgust\", \"Fear\", \"Happy\", \"Sad\", \"Surprise\", \"Neutral\"]\n",
    "colors=[\"red\",\"blue\",\"yellow\",\"orange\",\"green\",\"black\",\"purple\"]\n",
    "dict_avesr_h0 = dict([])\n",
    "\n",
    "plt.figure(figsize=(10,10))\n",
    "\n",
    "for e in emotion_categories:\n",
    "    emotion_name = emotion_names[e]\n",
    "    tot_pcf = 0\n",
    "    df_reload = dict_h0[emotion_name]\n",
    "    for i in range(len(df_reload)):\n",
    "        c1_temp = df_reload[\"content 1\"][i]\n",
    "        c1 = [float(x) for x in c1_temp[1:-1].split()]\n",
    "        c2_temp = df_reload[\"content 2\"][i]\n",
    "        c2 = [float(x) for x in c2_temp[1:-1].split()]\n",
    "        ce = [c1, c2]\n",
    "        #### Result\n",
    "        pcf = sr.Pcnif(ce)\n",
    "        tot_pcf = tot_pcf + pcf\n",
    "    ave_pcf = tot_pcf*(1/len(df_reload))\n",
    "    dict_avesr_h0[emotion_name] = ave_pcf\n",
    "    ave_pcf.plot(color = colors[e])"
   ]
  },
  {
   "cell_type": "code",
   "execution_count": 19,
   "id": "89f247d9",
   "metadata": {},
   "outputs": [
    {
     "data": {
      "image/png": "[encoded data removed]",
      "text/plain": [
       "<Figure size 720x720 with 1 Axes>"
      ]
     },
     "metadata": {},
     "output_type": "display_data"
    }
   ],
   "source": [
    "# Color code and select emotion categories\n",
    "emotion_categories = [0,1,2,3,4,5,6]\n",
    "#emotion_categories = [1,3]\n",
    "emotion_names = [\"Angry\", \"Disgust\", \"Fear\", \"Happy\", \"Sad\", \"Surprise\", \"Neutral\"]\n",
    "colors=[\"red\",\"blue\",\"yellow\",\"orange\",\"green\",\"black\",\"purple\"]\n",
    "dict_avesr_h1 = dict([])\n",
    "\n",
    "plt.figure(figsize=(10,10))\n",
    "\n",
    "for e in emotion_categories:\n",
    "    emotion_name = emotion_names[e]\n",
    "    tot_pcf = 0\n",
    "    df_reload = dict_h1[emotion_name]\n",
    "    for i in range(len(df_reload)):\n",
    "        c1_temp = df_reload[\"content 1\"][i]\n",
    "        c1 = [float(x) for x in c1_temp[1:-1].split()]\n",
    "        c2_temp = df_reload[\"content 2\"][i]\n",
    "        c2 = [float(x) for x in c2_temp[1:-1].split()]\n",
    "        ce = [c1, c2]\n",
    "        #### Result\n",
    "        pcf = sr.Pcnif(ce)\n",
    "        tot_pcf = tot_pcf + pcf\n",
    "    ave_pcf = tot_pcf*(1/len(df_reload))\n",
    "    dict_avesr_h1[emotion_name] = ave_pcf\n",
    "    ave_pcf.plot(color = colors[e])"
   ]
  },
  {
   "cell_type": "markdown",
   "id": "d4242dfc",
   "metadata": {},
   "source": [
    "## Compute stable rank standard deviations"
   ]
  },
  {
   "cell_type": "code",
   "execution_count": 26,
   "id": "84147f02",
   "metadata": {},
   "outputs": [
    {
     "name": "stdout",
     "output_type": "stream",
     "text": [
      "14.823634483918743\n",
      "11.1426279347735\n",
      "15.237573532814016\n",
      "25.098562754353946\n",
      "16.91196503594796\n",
      "18.568838255397992\n",
      "23.24435030197738\n"
     ]
    },
    {
     "data": {
      "text/plain": [
       "<Figure size 720x720 with 0 Axes>"
      ]
     },
     "metadata": {},
     "output_type": "display_data"
    }
   ],
   "source": [
    "import math\n",
    "# Color code and select emotion categories\n",
    "emotion_categories = [0,1,2,3,4,5,6]\n",
    "#emotion_categories = [1,3]\n",
    "emotion_names = [\"Angry\", \"Disgust\", \"Fear\", \"Happy\", \"Sad\", \"Surprise\", \"Neutral\"]\n",
    "\n",
    "plt.figure(figsize=(10,10))\n",
    "\n",
    "for e in emotion_categories:\n",
    "    emotion_name = emotion_names[e]\n",
    "    df_reload = dict_h0[emotion_name]\n",
    "    sumd = 0\n",
    "    for i in range(len(df_reload)):\n",
    "        c1_temp = df_reload[\"content 1\"][i]\n",
    "        c1 = [float(x) for x in c1_temp[1:-1].split()]\n",
    "        c2_temp = df_reload[\"content 2\"][i]\n",
    "        c2 = [float(x) for x in c2_temp[1:-1].split()]\n",
    "        ce = [c1, c2]\n",
    "        #### Result\n",
    "        pcf = sr.Pcnif(ce)\n",
    "        d = pcf.interleaving_distance(dict_avesr_h0[emotion_name])\n",
    "        sumd = sumd + d ** 2\n",
    "    std = math.sqrt(1/len(df_reload)*sumd)\n",
    "    print(std)"
   ]
  },
  {
   "cell_type": "code",
   "execution_count": 27,
   "id": "a52fcca5",
   "metadata": {},
   "outputs": [
    {
     "name": "stdout",
     "output_type": "stream",
     "text": [
      "5.87718543604523\n",
      "12.36616442866562\n",
      "7.1318736924839445\n",
      "8.068090728705217\n",
      "11.456994645592319\n",
      "8.62292091187569\n",
      "14.908589814839813\n"
     ]
    },
    {
     "data": {
      "text/plain": [
       "<Figure size 720x720 with 0 Axes>"
      ]
     },
     "metadata": {},
     "output_type": "display_data"
    }
   ],
   "source": [
    "# Color code and select emotion categories\n",
    "emotion_categories = [0,1,2,3,4,5,6]\n",
    "#emotion_categories = [1,3]\n",
    "emotion_names = [\"Angry\", \"Disgust\", \"Fear\", \"Happy\", \"Sad\", \"Surprise\", \"Neutral\"]\n",
    "\n",
    "plt.figure(figsize=(10,10))\n",
    "\n",
    "for e in emotion_categories:\n",
    "    emotion_name = emotion_names[e]\n",
    "    df_reload = dict_h1[emotion_name]\n",
    "    sumd = 0\n",
    "    for i in range(len(df_reload)):\n",
    "        c1_temp = df_reload[\"content 1\"][i]\n",
    "        c1 = [float(x) for x in c1_temp[1:-1].split()]\n",
    "        c2_temp = df_reload[\"content 2\"][i]\n",
    "        c2 = [float(x) for x in c2_temp[1:-1].split()]\n",
    "        ce = [c1, c2]\n",
    "        #### Result\n",
    "        pcf = sr.Pcnif(ce)\n",
    "        d = pcf.interleaving_distance(dict_avesr_h1[emotion_name])\n",
    "        sumd = sumd + d ** 2\n",
    "    std = math.sqrt(1/len(df_reload)*sumd)\n",
    "    print(std)"
   ]
  },
  {
   "cell_type": "markdown",
   "id": "d771d0b3-0581-4852-9cab-500bf8458610",
   "metadata": {},
   "source": [
    "## Exporting for one emotion"
   ]
  },
  {
   "cell_type": "code",
   "execution_count": 39,
   "id": "7a7eae73-973b-4142-a60d-0f7ee3b4c744",
   "metadata": {},
   "outputs": [],
   "source": [
    "# Selecting one emotion\n",
    "e = 3\n",
    "#0=Angry, 1=Disgust, 2=Fear, 3=Happy, 4=Sad, 5=Surprise, 6=Neutral\n",
    "\n",
    "# specifying the number of pictures for subsampling\n",
    "number_of_pictures = 100\n",
    "\n",
    "# select homology and maxdim\n",
    "degree=\"H0\"\n",
    "md=0\n",
    "\n",
    "# Set up empty arrays for the indices and contents\n",
    "indices = []\n",
    "contents_1 = []\n",
    "contents_2 = []\n",
    "\n",
    "# Select random images for subsampling for emotion e\n",
    "pos = np.array(np.where(df[\"emotion\"]==e))[0]\n",
    "rand_pos = pos[list(np.random.permutation(np.arange(0,len(pos)-1))[:number_of_pictures])]\n",
    "    \n",
    "# Calculate stable ranks\n",
    "for l in range(0,number_of_pictures):\n",
    "    pixel_values_it = [int(numeric_string) for numeric_string in df[\"pixels\"][rand_pos[l]].split(' ')]\n",
    "    image_dummy_it = np.empty((48*48,3), int)\n",
    "    for i in range(0,len(image_dummy_it)):\n",
    "        image_dummy_it[i] = [(100/47)*(i-i%48)/48, (100/47)*(i%48), (100/47)*(47*pixel_values_it[i]/255)]\n",
    "\n",
    "    image_stacked_it = np.vstack(image_dummy_it)\n",
    "    image_it = sr.EucObject(image_stacked_it)\n",
    "\n",
    "    b_it = image_it.get_bc(maxdim=md)\n",
    "    S_it = sr.bc_to_sr(b_it, degree)\n",
    "    \n",
    "    content = S_it.content\n",
    "    \n",
    "    indices.append(rand_pos[l])\n",
    "    contents_1.append(content[0])\n",
    "    contents_2.append(content[1])\n",
    "    \n",
    "data = {'old index':indices, 'content 1':contents_1, 'content 2':contents_2}\n",
    "df_out = pd.DataFrame(data)\n",
    "df_out.to_csv(\"Results/\")"
   ]
  }
 ],
 "metadata": {
  "kernelspec": {
   "display_name": "Python 3 (ipykernel)",
   "language": "python",
   "name": "python3"
  },
  "language_info": {
   "codemirror_mode": {
    "name": "ipython",
    "version": 3
   },
   "file_extension": ".py",
   "mimetype": "text/x-python",
   "name": "python",
   "nbconvert_exporter": "python",
   "pygments_lexer": "ipython3",
   "version": "3.8.10"
  }
 },
 "nbformat": 4,
 "nbformat_minor": 5
}
