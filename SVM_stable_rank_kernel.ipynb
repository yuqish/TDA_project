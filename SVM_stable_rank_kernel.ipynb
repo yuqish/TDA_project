{
 "cells": [
  {
   "cell_type": "code",
   "execution_count": 1,
   "id": "a73e6054",
   "metadata": {},
   "outputs": [],
   "source": [
    "import numpy as np\n",
    "import matplotlib.pyplot as plt\n",
    "from sklearn import svm\n",
    "import pandas as pd\n",
    "import ast"
   ]
  },
  {
   "cell_type": "code",
   "execution_count": 2,
   "id": "15101e02",
   "metadata": {},
   "outputs": [],
   "source": [
    "df1=pd.read_csv('Results/happy_80images_H0_new.csv', sep=',')\n",
    "df2=pd.read_csv('Results/angry_80images_H0_new.csv', sep=',')"
   ]
  },
  {
   "cell_type": "code",
   "execution_count": 3,
   "id": "1e787d2b",
   "metadata": {},
   "outputs": [
    {
     "name": "stdout",
     "output_type": "stream",
     "text": [
      "160\n"
     ]
    },
    {
     "data": {
      "text/plain": [
       "array([1., 1., 1., 1., 1., 1., 1., 1., 1., 1., 1., 1., 1., 1., 1., 1., 1.,\n",
       "       1., 1., 1., 1., 1., 1., 1., 1., 1., 1., 1., 1., 1., 1., 1., 1., 1.,\n",
       "       1., 1., 1., 1., 1., 1., 1., 1., 1., 1., 1., 1., 1., 1., 1., 1., 1.,\n",
       "       1., 1., 1., 1., 1., 1., 1., 1., 1., 1., 1., 1., 1., 1., 1., 1., 1.,\n",
       "       1., 1., 1., 1., 1., 1., 1., 1., 1., 1., 1., 1., 0., 0., 0., 0., 0.,\n",
       "       0., 0., 0., 0., 0., 0., 0., 0., 0., 0., 0., 0., 0., 0., 0., 0., 0.,\n",
       "       0., 0., 0., 0., 0., 0., 0., 0., 0., 0., 0., 0., 0., 0., 0., 0., 0.,\n",
       "       0., 0., 0., 0., 0., 0., 0., 0., 0., 0., 0., 0., 0., 0., 0., 0., 0.,\n",
       "       0., 0., 0., 0., 0., 0., 0., 0., 0., 0., 0., 0., 0., 0., 0., 0., 0.,\n",
       "       0., 0., 0., 0., 0., 0., 0.])"
      ]
     },
     "execution_count": 3,
     "metadata": {},
     "output_type": "execute_result"
    }
   ],
   "source": [
    "x = []\n",
    "\n",
    "for i in range(len(df1)):\n",
    "    a = df1[\"content\"][i].replace('\\n', '').replace('  ', ',').replace(' ', ',')\n",
    "    temparray = ast.literal_eval(a)\n",
    "    x.append(temparray)\n",
    "for i in range(len(df2)):\n",
    "    a = df2[\"content\"][i].replace('\\n', '').replace('  ', ',').replace(' ', ',')\n",
    "    temparray = ast.literal_eval(a)\n",
    "    x.append(temparray)\n",
    "    \n",
    "print(len(x))\n",
    "\n",
    "y1 = np.ones(80)\n",
    "y2 = np.zeros(80)\n",
    "y_train = np.concatenate((y1, y2))\n",
    "y_train"
   ]
  },
  {
   "cell_type": "code",
   "execution_count": 47,
   "id": "6747a1e4",
   "metadata": {},
   "outputs": [
    {
     "data": {
      "text/plain": [
       "(160,)"
      ]
     },
     "execution_count": 47,
     "metadata": {},
     "output_type": "execute_result"
    }
   ],
   "source": [
    "#create fake training data as indexes of stable ranks\n",
    "x_train = np.arange(160)\n",
    "x_train.shape"
   ]
  },
  {
   "cell_type": "code",
   "execution_count": 78,
   "id": "650c10ba",
   "metadata": {},
   "outputs": [
    {
     "name": "stdout",
     "output_type": "stream",
     "text": [
      "enter srank_kernel\n",
      "45\n",
      "45\n"
     ]
    },
    {
     "data": {
      "text/plain": [
       "SVC(kernel=<function proxy_kernel at 0x7f4c698605e0>)"
      ]
     },
     "execution_count": 78,
     "metadata": {},
     "output_type": "execute_result"
    }
   ],
   "source": [
    "def srank_kernel(X, Y):\n",
    "    \"\"\"\n",
    "    We create a custom stable rank kernel\n",
    "    ref: JENS AGERBERG, Statistical Learning and Analysis on Homology-Based Features\n",
    "    X,Y: stable rank array input data\n",
    "    \"\"\"\n",
    "    t_union = np.union1d(X[0], Y[0])\n",
    "    tY_diff = np.setdiff1d(Y[0], X[0]) #t in Y but not in X\n",
    "    tX_diff = np.setdiff1d(X[0], Y[0]) #t in X but not in Y\n",
    "    M1 = np.zeros(len(t_union))\n",
    "    M2 = np.zeros(len(t_union))\n",
    "    x_offset = 0\n",
    "    y_offset = 0\n",
    "    for i in range(len(t_union)):\n",
    "        if t_union[i] <= X[0][-1] and t_union[i] == X[0][i-x_offset]:\n",
    "            M1[i] = X[1][i-x_offset]\n",
    "        else:\n",
    "            x_offset = x_offset + 1\n",
    "            M1[i] = X[1][i-x_offset]\n",
    "            \n",
    "        if t_union[i] <= Y[0][-1] and t_union[i] == Y[0][i-y_offset]:\n",
    "            M2[i] = Y[1][i-y_offset]\n",
    "        else:\n",
    "            y_offset = y_offset + 1\n",
    "            M2[i] = Y[1][i-y_offset]\n",
    "    t_diff = np.ediff1d(t_union)\n",
    "    return np.dot(np.multiply(M1[0:len(M1)-1], M2[0:len(M2)-1]), t_diff)\n",
    "\n",
    "#this requires return a Gram matrix\n",
    "def proxy_kernel(X,Y):\n",
    "    gram_matrix = np.zeros((len(X), len(Y)))\n",
    "    for i, x in enumerate(X):\n",
    "        for j, y in enumerate(Y):\n",
    "            gram_matrix[i, j] = srank_kernel(x, y)\n",
    "    return gram_matrix\n",
    "\n",
    "# we create an instance of SVM and fit out data.\n",
    "clf = svm.SVC(kernel=proxy_kernel)\n",
    "clf.fit(x, y_train)"
   ]
  },
  {
   "cell_type": "code",
   "execution_count": null,
   "id": "28cef853",
   "metadata": {},
   "outputs": [],
   "source": []
  }
 ],
 "metadata": {
  "kernelspec": {
   "display_name": "Python 3 (ipykernel)",
   "language": "python",
   "name": "python3"
  },
  "language_info": {
   "codemirror_mode": {
    "name": "ipython",
    "version": 3
   },
   "file_extension": ".py",
   "mimetype": "text/x-python",
   "name": "python",
   "nbconvert_exporter": "python",
   "pygments_lexer": "ipython3",
   "version": "3.8.10"
  }
 },
 "nbformat": 4,
 "nbformat_minor": 5
}
