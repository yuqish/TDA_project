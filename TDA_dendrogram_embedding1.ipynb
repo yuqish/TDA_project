{
 "cells": [
  {
   "cell_type": "code",
   "execution_count": 29,
   "metadata": {},
   "outputs": [],
   "source": [
    "import numpy as np\n",
    "inf=float(\"inf\")\n",
    "\n",
    "import pandas as pd\n",
    "\n",
    "import matplotlib.pyplot as plt\n",
    "plt.style.use('ggplot')\n",
    "\n",
    "import scipy.stats as st\n",
    "\n",
    "from scipy.cluster import hierarchy\n",
    "\n",
    "import stablerank.srank as sr\n",
    "import stablerank.geometry_objects_2020 as ge\n",
    "\n",
    "from ipywidgets import interact, interactive, fixed, interact_manual\n",
    "import ipywidgets as widgets\n",
    "import _pickle as pickle\n",
    "\n",
    "from ripser import ripser\n",
    "from scipy.cluster.hierarchy import dendrogram, linkage, fcluster\n",
    "\n",
    "from PIL import Image\n",
    "\n",
    "import os\n",
    "\n",
    "#from keras.datasets import mnist\n",
    "#from matplotlib import pyplot"
   ]
  },
  {
   "cell_type": "code",
   "execution_count": 2,
   "metadata": {},
   "outputs": [],
   "source": [
    "# loading the data\n",
    "\n",
    "df=pd.read_csv('challenges-in-representation-learning-facial-expression-recognition-challenge/icml_face_data.csv', sep=',')\n",
    "#df=pd.read_csv('challenges-in-representation-learning-facial-expression-recognition-challenge/train.csv', sep=',',header=None)"
   ]
  },
  {
   "cell_type": "code",
   "execution_count": 3,
   "metadata": {},
   "outputs": [],
   "source": [
    "# Removing duplicate values and reindexing\n",
    "\n",
    "df.drop_duplicates(subset =[\" pixels\"], inplace = True)\n",
    "df=df.reindex(range(0,len(df)-1))"
   ]
  },
  {
   "cell_type": "code",
   "execution_count": 4,
   "metadata": {},
   "outputs": [
    {
     "data": {
      "text/html": [
       "<div>\n",
       "<style scoped>\n",
       "    .dataframe tbody tr th:only-of-type {\n",
       "        vertical-align: middle;\n",
       "    }\n",
       "\n",
       "    .dataframe tbody tr th {\n",
       "        vertical-align: top;\n",
       "    }\n",
       "\n",
       "    .dataframe thead th {\n",
       "        text-align: right;\n",
       "    }\n",
       "</style>\n",
       "<table border=\"1\" class=\"dataframe\">\n",
       "  <thead>\n",
       "    <tr style=\"text-align: right;\">\n",
       "      <th></th>\n",
       "      <th>emotion</th>\n",
       "      <th>Usage</th>\n",
       "      <th>pixels</th>\n",
       "    </tr>\n",
       "  </thead>\n",
       "  <tbody>\n",
       "    <tr>\n",
       "      <th>0</th>\n",
       "      <td>0.0</td>\n",
       "      <td>Training</td>\n",
       "      <td>70 80 82 72 58 58 60 63 54 58 60 48 89 115 121...</td>\n",
       "    </tr>\n",
       "    <tr>\n",
       "      <th>1</th>\n",
       "      <td>0.0</td>\n",
       "      <td>Training</td>\n",
       "      <td>151 150 147 155 148 133 111 140 170 174 182 15...</td>\n",
       "    </tr>\n",
       "    <tr>\n",
       "      <th>2</th>\n",
       "      <td>2.0</td>\n",
       "      <td>Training</td>\n",
       "      <td>231 212 156 164 174 138 161 173 182 200 106 38...</td>\n",
       "    </tr>\n",
       "    <tr>\n",
       "      <th>3</th>\n",
       "      <td>4.0</td>\n",
       "      <td>Training</td>\n",
       "      <td>24 32 36 30 32 23 19 20 30 41 21 22 32 34 21 1...</td>\n",
       "    </tr>\n",
       "    <tr>\n",
       "      <th>4</th>\n",
       "      <td>6.0</td>\n",
       "      <td>Training</td>\n",
       "      <td>4 0 0 0 0 0 0 0 0 0 0 0 3 15 23 28 48 50 58 84...</td>\n",
       "    </tr>\n",
       "    <tr>\n",
       "      <th>...</th>\n",
       "      <td>...</td>\n",
       "      <td>...</td>\n",
       "      <td>...</td>\n",
       "    </tr>\n",
       "    <tr>\n",
       "      <th>34028</th>\n",
       "      <td>0.0</td>\n",
       "      <td>PrivateTest</td>\n",
       "      <td>157 157 157 157 156 156 155 155 157 155 155 14...</td>\n",
       "    </tr>\n",
       "    <tr>\n",
       "      <th>34029</th>\n",
       "      <td>3.0</td>\n",
       "      <td>PrivateTest</td>\n",
       "      <td>24 33 41 48 48 58 75 95 110 139 158 172 178 18...</td>\n",
       "    </tr>\n",
       "    <tr>\n",
       "      <th>34030</th>\n",
       "      <td>5.0</td>\n",
       "      <td>PrivateTest</td>\n",
       "      <td>42 70 65 49 34 33 34 39 58 61 86 86 68 93 76 5...</td>\n",
       "    </tr>\n",
       "    <tr>\n",
       "      <th>34031</th>\n",
       "      <td>0.0</td>\n",
       "      <td>PrivateTest</td>\n",
       "      <td>49 47 51 60 60 61 66 70 74 74 70 63 65 75 69 6...</td>\n",
       "    </tr>\n",
       "    <tr>\n",
       "      <th>34032</th>\n",
       "      <td>4.0</td>\n",
       "      <td>PrivateTest</td>\n",
       "      <td>39 43 49 49 47 46 35 24 23 27 29 24 23 31 27 2...</td>\n",
       "    </tr>\n",
       "  </tbody>\n",
       "</table>\n",
       "<p>34033 rows × 3 columns</p>\n",
       "</div>"
      ],
      "text/plain": [
       "       emotion        Usage                                             pixels\n",
       "0          0.0     Training  70 80 82 72 58 58 60 63 54 58 60 48 89 115 121...\n",
       "1          0.0     Training  151 150 147 155 148 133 111 140 170 174 182 15...\n",
       "2          2.0     Training  231 212 156 164 174 138 161 173 182 200 106 38...\n",
       "3          4.0     Training  24 32 36 30 32 23 19 20 30 41 21 22 32 34 21 1...\n",
       "4          6.0     Training  4 0 0 0 0 0 0 0 0 0 0 0 3 15 23 28 48 50 58 84...\n",
       "...        ...          ...                                                ...\n",
       "34028      0.0  PrivateTest  157 157 157 157 156 156 155 155 157 155 155 14...\n",
       "34029      3.0  PrivateTest  24 33 41 48 48 58 75 95 110 139 158 172 178 18...\n",
       "34030      5.0  PrivateTest  42 70 65 49 34 33 34 39 58 61 86 86 68 93 76 5...\n",
       "34031      0.0  PrivateTest  49 47 51 60 60 61 66 70 74 74 70 63 65 75 69 6...\n",
       "34032      4.0  PrivateTest  39 43 49 49 47 46 35 24 23 27 29 24 23 31 27 2...\n",
       "\n",
       "[34033 rows x 3 columns]"
      ]
     },
     "execution_count": 4,
     "metadata": {},
     "output_type": "execute_result"
    }
   ],
   "source": [
    "df"
   ]
  },
  {
   "cell_type": "code",
   "execution_count": 5,
   "metadata": {},
   "outputs": [
    {
     "data": {
      "image/png": "[encoded data removed]",
      "text/plain": [
       "<PIL.Image.Image image mode=L size=48x48 at 0x2C2D263F520>"
      ]
     },
     "execution_count": 5,
     "metadata": {},
     "output_type": "execute_result"
    }
   ],
   "source": [
    "# Printing the first picture\n",
    "first_picture = [int(numeric_string) for numeric_string in df[\" pixels\"][0].split(' ')]\n",
    "first_picture_arr = np.array(first_picture)\n",
    "first_picture_arr.resize((48,48))\n",
    "im = Image.fromarray((255-first_picture_arr* 255).astype(np.uint8))\n",
    "im"
   ]
  },
  {
   "cell_type": "code",
   "execution_count": 6,
   "metadata": {},
   "outputs": [],
   "source": [
    "#Schmierblatt\n",
    "\n",
    "pos = np.array(np.where(df[\"emotion\"]==3))[0]\n",
    "rand_pos = pos[list(np.random.permutation(np.arange(0,len(pos)-1))[:20])]\n",
    "points_dummy = np.empty((len(rand_pos),48*48), int)\n",
    "\n",
    "for i in range(0,len(rand_pos)):\n",
    "    points_dummy[i] = [int(numeric_string) for numeric_string in df[\" pixels\"][rand_pos[i]].split(' ')]\n",
    "\n",
    "points = np.vstack(points_dummy)\n",
    "#df[\" pixels\"].loc[pos]"
   ]
  },
  {
   "cell_type": "code",
   "execution_count": 7,
   "metadata": {},
   "outputs": [
    {
     "name": "stdout",
     "output_type": "stream",
     "text": [
      "size:  20\n",
      "dimension:  2304\n",
      "points:  [[241. 244. 246. ... 166. 157. 135.]\n",
      " [ 17.  22.  16. ...  40.  40.  35.]\n",
      " [ 82.  90.  81. ...  76.  79.  83.]\n",
      " ...\n",
      " [224. 170. 109. ... 222. 224. 235.]\n",
      " [150. 141. 130. ...  13.  14.  15.]\n",
      " [255. 255. 255. ... 167. 245. 255.]]\n"
     ]
    }
   ],
   "source": [
    "angry = sr.EucObject(points)\n",
    "print(\"size: \", angry.size)\n",
    "print(\"dimension: \", angry.dim)\n",
    "print(\"points: \", angry.points)"
   ]
  },
  {
   "cell_type": "code",
   "execution_count": 8,
   "metadata": {},
   "outputs": [],
   "source": [
    "# specifying metric\n",
    "metric = \"minkowski\"\n",
    "metric_parameter = 3\n",
    "\n",
    "# specifying clustering method\n",
    "clustering_method = \"complete\"\n",
    "\n",
    "\n",
    "f1 = angry.get_h0sr(metric = metric, metric_parameter = metric_parameter)\n",
    "\n",
    "\n",
    "#plt.figure(figsize=(20,20))\n",
    "\n",
    "#f1.plot(color =\"blue\")"
   ]
  },
  {
   "cell_type": "markdown",
   "metadata": {},
   "source": [
    "# $H_0$ stable rank for embedding 1"
   ]
  },
  {
   "cell_type": "code",
   "execution_count": 9,
   "metadata": {},
   "outputs": [
    {
     "data": {
      "text/plain": [
       "<matplotlib.legend.Legend at 0x2c2d789a940>"
      ]
     },
     "execution_count": 9,
     "metadata": {},
     "output_type": "execute_result"
    },
    {
     "data": {
      "image/png": "[encoded data removed]",
      "text/plain": [
       "<Figure size 1440x1440 with 1 Axes>"
      ]
     },
     "metadata": {},
     "output_type": "display_data"
    }
   ],
   "source": [
    "#0=Angry, 1=Disgust, 2=Fear, 3=Happy, 4=Sad, 5=Surprise, 6=Neutral\n",
    "emotion_categories = [0,1,2,3,4,5,6]\n",
    "colours=[\"red\",\"blue\",\"yellow\",\"orange\",\"green\",\"black\",\"purple\"]\n",
    "legends = [\"Angry\", \"Disgust\", \"Fear\", \"Happy\", \"Sad\", \"Surprise\", \"Neutral\"]\n",
    "\n",
    "# specifying the number of pictures for subsampling\n",
    "number_of_pictures = 100\n",
    "\n",
    "# specifying metric\n",
    "metric = \"cityblock\"\n",
    "#metric_parameter = 3\n",
    "\n",
    "# specifying clustering method\n",
    "clustering_method = \"single\"\n",
    "\n",
    "plt.figure(figsize=(20,20))\n",
    "\n",
    "for e in emotion_categories:\n",
    "    pos = np.array(np.where(df[\"emotion\"]==e))[0]\n",
    "    #rand_pos = pos[np.random.randint(0,len(pos)-1,number_of_pictures)]\n",
    "    rand_pos = pos[list(np.random.permutation(np.arange(0,len(pos)-1))[:number_of_pictures])]\n",
    "    points_dummy = np.empty((len(rand_pos),48*48), int)\n",
    "\n",
    "    for i in range(0,len(rand_pos)):\n",
    "        points_dummy[i] = [int(numeric_string) for numeric_string in df[\" pixels\"][rand_pos[i]].split(' ')]\n",
    "\n",
    "    points = np.vstack(points_dummy)\n",
    "    \n",
    "    point_cloud = sr.EucObject(points)\n",
    "    \n",
    "    f_pcf = point_cloud.get_h0sr(metric = metric, metric_parameter = metric_parameter)\n",
    "    \n",
    "    f_pcf.plot(color=colours[emotion_categories.index(e)])\n",
    "\n",
    "    #print(\"size: \", point_cloud.size)\n",
    "    #print(\"dimension: \", point_cloud.dim)\n",
    "    #print(\"points: \", point_cloud.points)\n",
    "plt.legend(legends)"
   ]
  },
  {
   "cell_type": "markdown",
   "metadata": {},
   "source": [
    "# Dendrogram from embedding 1"
   ]
  },
  {
   "cell_type": "code",
   "execution_count": 11,
   "metadata": {},
   "outputs": [],
   "source": [
    "def big_list(T):\n",
    "    L=[]\n",
    "    for i in range(len(T)):\n",
    "        L=L+list(T[i])\n",
    "    return L"
   ]
  },
  {
   "cell_type": "code",
   "execution_count": 37,
   "metadata": {},
   "outputs": [
    {
     "data": {
      "text/plain": [
       "array([ 57,  58,  62, ..., 147,  46, 104])"
      ]
     },
     "metadata": {},
     "output_type": "display_data"
    },
    {
     "data": {
      "text/plain": [
       "array([197, 180, 147, ..., 220,  41,  55])"
      ]
     },
     "metadata": {},
     "output_type": "display_data"
    },
    {
     "data": {
      "text/plain": [
       "array([ 22,  20,  20, ..., 140, 135, 130])"
      ]
     },
     "metadata": {},
     "output_type": "display_data"
    },
    {
     "data": {
      "text/plain": [
       "array([47, 48, 49, ..., 56, 57, 54])"
      ]
     },
     "metadata": {},
     "output_type": "display_data"
    },
    {
     "data": {
      "text/plain": [
       "array([255, 255, 255, ..., 174, 199, 208])"
      ]
     },
     "metadata": {},
     "output_type": "display_data"
    },
    {
     "data": {
      "text/plain": [
       "array([245, 250, 124, ..., 229, 217, 230])"
      ]
     },
     "metadata": {},
     "output_type": "display_data"
    },
    {
     "data": {
      "text/plain": [
       "array([33, 47, 41, ..., 39, 30, 21])"
      ]
     },
     "metadata": {},
     "output_type": "display_data"
    },
    {
     "name": "stdout",
     "output_type": "stream",
     "text": [
      "[[ 57  58  62 ... 147  46 104]\n",
      " [197 180 147 ... 220  41  55]\n",
      " [ 22  20  20 ... 140 135 130]\n",
      " ...\n",
      " [255 255 255 ... 174 199 208]\n",
      " [245 250 124 ... 229 217 230]\n",
      " [ 33  47  41 ...  39  30  21]]\n"
     ]
    },
    {
     "data": {
      "image/png": "[encoded data removed]",
      "text/plain": [
       "<Figure size 1440x1440 with 1 Axes>"
      ]
     },
     "metadata": {},
     "output_type": "display_data"
    }
   ],
   "source": [
    "#0=Angry, 1=Disgust, 2=Fear, 3=Happy, 4=Sad, 5=Surprise, 6=Neutral\n",
    "emotion_categories = [0,1,2,3,4,5,6]\n",
    "#colours=[\"red\",\"blue\",\"yellow\",\"orange\",\"green\",\"black\",\"purple\"]\n",
    "legends = [\"Angry\", \"Disgust\", \"Fear\", \"Happy\", \"Sad\", \"Surprise\", \"Neutral\"]\n",
    "\n",
    "# specifying the number of pictures for subsampling\n",
    "number_of_pictures = 10\n",
    "\n",
    "plt.figure(figsize=(20,20))\n",
    "\n",
    "#points = np.array([])\n",
    "points=[]\n",
    "for e in emotion_categories:\n",
    "    pos = np.array(np.where(df[\"emotion\"]==e))[0]\n",
    "    #rand_pos = pos[np.random.randint(0,len(pos)-1,number_of_pictures)]\n",
    "    rand_pos = pos[list(np.random.permutation(np.arange(0,len(pos)-1))[:number_of_pictures])]\n",
    "    points_dummy = np.empty((len(rand_pos),48*48), int)\n",
    "\n",
    "    for i in range(0,len(rand_pos)):\n",
    "        points_dummy[i] = [int(numeric_string) for numeric_string in df[\" pixels\"][rand_pos[i]].split(' ')]\n",
    "    \n",
    "    points_stack = big_list(points_dummy)\n",
    "    points.append(points_stack)\n",
    "    display(np.hstack(points_stack))\n",
    "    \n",
    "print(np.array(points))\n",
    "Z = hierarchy.linkage(points, 'single')\n",
    "hierarchy.dendrogram(Z, orientation = 'right', labels = legends)\n",
    "hierarchy.set_link_color_palette([\"red\",\"blue\",\"yellow\",\"orange\",\"green\",\"black\",\"purple\"])\n",
    "plt.savefig(\"dendrogram.pdf\")\n",
    "os.system('pdfcrop %s %s' % (\"dendrogram.pdf\", \"dendrogram.pdf\"))\n",
    "plt.show()"
   ]
  },
  {
   "cell_type": "code",
   "execution_count": null,
   "metadata": {},
   "outputs": [],
   "source": []
  }
 ],
 "metadata": {
  "kernelspec": {
   "display_name": "Python 3",
   "language": "python",
   "name": "python3"
  },
  "language_info": {
   "codemirror_mode": {
    "name": "ipython",
    "version": 3
   },
   "file_extension": ".py",
   "mimetype": "text/x-python",
   "name": "python",
   "nbconvert_exporter": "python",
   "pygments_lexer": "ipython3",
   "version": "3.8.5"
  }
 },
 "nbformat": 4,
 "nbformat_minor": 4
}
