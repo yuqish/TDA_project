{
 "cells": [
  {
   "cell_type": "code",
   "execution_count": 2,
   "id": "9b9ae9ee-ae0f-4e7f-b33a-b60c5fe9c6c0",
   "metadata": {},
   "outputs": [],
   "source": [
    "import numpy as np\n",
    "inf=float(\"inf\")\n",
    "\n",
    "import pandas as pd\n",
    "\n",
    "import matplotlib.pyplot as plt\n",
    "plt.style.use('ggplot')\n",
    "\n",
    "import scipy.stats as st\n",
    "\n",
    "import stablerank.srank as sr\n",
    "import stablerank.geometry_objects_2020 as ge\n",
    "\n",
    "from ipywidgets import interact, interactive, fixed, interact_manual\n",
    "import ipywidgets as widgets\n",
    "import _pickle as pickle\n",
    "\n",
    "from ripser import ripser\n",
    "from scipy.cluster.hierarchy import dendrogram, linkage, fcluster\n",
    "\n",
    "from PIL import Image\n",
    "\n",
    "#from keras.datasets import mnist\n",
    "#from matplotlib import pyplot"
   ]
  },
  {
   "cell_type": "markdown",
   "id": "370ef88c-0fd3-46e3-b930-17b067c096ac",
   "metadata": {},
   "source": [
    "### Import Data"
   ]
  },
  {
   "cell_type": "code",
   "execution_count": 3,
   "id": "c6bc7b38-47e2-445e-b722-83a2418d04ce",
   "metadata": {},
   "outputs": [],
   "source": [
    "# loading the data\n",
    "\n",
    "df=pd.read_csv('challenges-in-representation-learning-facial-expression-recognition-challenge/icml_face_data.csv', sep=',')\n",
    "#df=pd.read_csv('challenges-in-representation-learning-facial-expression-recognition-challenge/train.csv', sep=',',header=None)"
   ]
  },
  {
   "cell_type": "code",
   "execution_count": 4,
   "id": "8cd94206-fafa-4aaa-86b5-1b8f61943ece",
   "metadata": {},
   "outputs": [],
   "source": [
    "# Removing duplicate values and reindexing\n",
    "\n",
    "df.drop_duplicates(subset =[\" pixels\"], inplace = True)\n",
    "df=df.reindex(range(0,len(df)-1))"
   ]
  },
  {
   "cell_type": "code",
   "execution_count": 4,
   "id": "97f5797e-c9d3-426f-b0a4-73454cc43256",
   "metadata": {},
   "outputs": [
    {
     "data": {
      "text/html": [
       "<div>\n",
       "<style scoped>\n",
       "    .dataframe tbody tr th:only-of-type {\n",
       "        vertical-align: middle;\n",
       "    }\n",
       "\n",
       "    .dataframe tbody tr th {\n",
       "        vertical-align: top;\n",
       "    }\n",
       "\n",
       "    .dataframe thead th {\n",
       "        text-align: right;\n",
       "    }\n",
       "</style>\n",
       "<table border=\"1\" class=\"dataframe\">\n",
       "  <thead>\n",
       "    <tr style=\"text-align: right;\">\n",
       "      <th></th>\n",
       "      <th>emotion</th>\n",
       "      <th>Usage</th>\n",
       "      <th>pixels</th>\n",
       "    </tr>\n",
       "  </thead>\n",
       "  <tbody>\n",
       "    <tr>\n",
       "      <th>0</th>\n",
       "      <td>0.0</td>\n",
       "      <td>Training</td>\n",
       "      <td>70 80 82 72 58 58 60 63 54 58 60 48 89 115 121...</td>\n",
       "    </tr>\n",
       "    <tr>\n",
       "      <th>1</th>\n",
       "      <td>0.0</td>\n",
       "      <td>Training</td>\n",
       "      <td>151 150 147 155 148 133 111 140 170 174 182 15...</td>\n",
       "    </tr>\n",
       "    <tr>\n",
       "      <th>2</th>\n",
       "      <td>2.0</td>\n",
       "      <td>Training</td>\n",
       "      <td>231 212 156 164 174 138 161 173 182 200 106 38...</td>\n",
       "    </tr>\n",
       "    <tr>\n",
       "      <th>3</th>\n",
       "      <td>4.0</td>\n",
       "      <td>Training</td>\n",
       "      <td>24 32 36 30 32 23 19 20 30 41 21 22 32 34 21 1...</td>\n",
       "    </tr>\n",
       "    <tr>\n",
       "      <th>4</th>\n",
       "      <td>6.0</td>\n",
       "      <td>Training</td>\n",
       "      <td>4 0 0 0 0 0 0 0 0 0 0 0 3 15 23 28 48 50 58 84...</td>\n",
       "    </tr>\n",
       "    <tr>\n",
       "      <th>...</th>\n",
       "      <td>...</td>\n",
       "      <td>...</td>\n",
       "      <td>...</td>\n",
       "    </tr>\n",
       "    <tr>\n",
       "      <th>34028</th>\n",
       "      <td>0.0</td>\n",
       "      <td>PrivateTest</td>\n",
       "      <td>157 157 157 157 156 156 155 155 157 155 155 14...</td>\n",
       "    </tr>\n",
       "    <tr>\n",
       "      <th>34029</th>\n",
       "      <td>3.0</td>\n",
       "      <td>PrivateTest</td>\n",
       "      <td>24 33 41 48 48 58 75 95 110 139 158 172 178 18...</td>\n",
       "    </tr>\n",
       "    <tr>\n",
       "      <th>34030</th>\n",
       "      <td>5.0</td>\n",
       "      <td>PrivateTest</td>\n",
       "      <td>42 70 65 49 34 33 34 39 58 61 86 86 68 93 76 5...</td>\n",
       "    </tr>\n",
       "    <tr>\n",
       "      <th>34031</th>\n",
       "      <td>0.0</td>\n",
       "      <td>PrivateTest</td>\n",
       "      <td>49 47 51 60 60 61 66 70 74 74 70 63 65 75 69 6...</td>\n",
       "    </tr>\n",
       "    <tr>\n",
       "      <th>34032</th>\n",
       "      <td>4.0</td>\n",
       "      <td>PrivateTest</td>\n",
       "      <td>39 43 49 49 47 46 35 24 23 27 29 24 23 31 27 2...</td>\n",
       "    </tr>\n",
       "  </tbody>\n",
       "</table>\n",
       "<p>34033 rows × 3 columns</p>\n",
       "</div>"
      ],
      "text/plain": [
       "       emotion        Usage                                             pixels\n",
       "0          0.0     Training  70 80 82 72 58 58 60 63 54 58 60 48 89 115 121...\n",
       "1          0.0     Training  151 150 147 155 148 133 111 140 170 174 182 15...\n",
       "2          2.0     Training  231 212 156 164 174 138 161 173 182 200 106 38...\n",
       "3          4.0     Training  24 32 36 30 32 23 19 20 30 41 21 22 32 34 21 1...\n",
       "4          6.0     Training  4 0 0 0 0 0 0 0 0 0 0 0 3 15 23 28 48 50 58 84...\n",
       "...        ...          ...                                                ...\n",
       "34028      0.0  PrivateTest  157 157 157 157 156 156 155 155 157 155 155 14...\n",
       "34029      3.0  PrivateTest  24 33 41 48 48 58 75 95 110 139 158 172 178 18...\n",
       "34030      5.0  PrivateTest  42 70 65 49 34 33 34 39 58 61 86 86 68 93 76 5...\n",
       "34031      0.0  PrivateTest  49 47 51 60 60 61 66 70 74 74 70 63 65 75 69 6...\n",
       "34032      4.0  PrivateTest  39 43 49 49 47 46 35 24 23 27 29 24 23 31 27 2...\n",
       "\n",
       "[34033 rows x 3 columns]"
      ]
     },
     "execution_count": 4,
     "metadata": {},
     "output_type": "execute_result"
    }
   ],
   "source": [
    "# Inspecting the Dataframe\n",
    "\n",
    "df"
   ]
  },
  {
   "cell_type": "code",
   "execution_count": 50,
   "id": "dbf6f58f-afbc-4259-88ac-85fbfc485263",
   "metadata": {},
   "outputs": [
    {
     "name": "stdout",
     "output_type": "stream",
     "text": [
      "[231 212 156 ...  88 110 152]\n",
      "[[231 212 156 ...  44  27  16]\n",
      " [229 175 148 ...  27  35  27]\n",
      " [214 156 157 ...  28  22  28]\n",
      " ...\n",
      " [241 245 250 ...  57 101 146]\n",
      " [246 250 252 ...  78 105 162]\n",
      " [250 251 250 ...  88 110 152]]\n"
     ]
    },
    {
     "data": {
      "image/png": "[encoded data removed]",
      "text/plain": [
       "<PIL.Image.Image image mode=L size=48x48 at 0x7F6DC968E8B0>"
      ]
     },
     "execution_count": 50,
     "metadata": {},
     "output_type": "execute_result"
    }
   ],
   "source": [
    "# Printing the first picture\n",
    "first_picture = [int(numeric_string) for numeric_string in df[\" pixels\"][2].split(' ')]\n",
    "first_picture_arr = np.array(first_picture)\n",
    "print(first_picture_arr)\n",
    "first_picture_arr.resize((48,48))\n",
    "print(first_picture_arr)\n",
    "im = Image.fromarray((first_picture_arr).astype(np.uint8))\n",
    "#im = Image.fromarray((255-first_picture_arr* 255).astype(np.uint8))\n",
    "im\n"
   ]
  },
  {
   "cell_type": "markdown",
   "id": "250d5ed2",
   "metadata": {},
   "source": [
    "## Try filters"
   ]
  },
  {
   "cell_type": "code",
   "execution_count": 10,
   "id": "eb05d46a",
   "metadata": {},
   "outputs": [],
   "source": [
    "cv.imread?"
   ]
  },
  {
   "cell_type": "code",
   "execution_count": 51,
   "id": "b7be3846",
   "metadata": {},
   "outputs": [
    {
     "data": {
      "image/png": "[encoded data removed]",
      "text/plain": [
       "<Figure size 432x288 with 5 Axes>"
      ]
     },
     "metadata": {},
     "output_type": "display_data"
    }
   ],
   "source": [
    "import numpy as np\n",
    "import cv2 as cv\n",
    "from matplotlib import pyplot as plt\n",
    "img = (first_picture_arr).astype(np.uint8)\n",
    "img = cv.GaussianBlur(img,(3,3),0)\n",
    "laplacian = cv.Laplacian(img,cv.CV_64F)\n",
    "sobelx = cv.Sobel(img,cv.CV_64F,1,0,ksize=5)\n",
    "sobely = cv.Sobel(img,cv.CV_64F,0,1,ksize=5)\n",
    "\n",
    "gradient_magnitude = np.sqrt(np.square(sobelx) + np.square(sobely))\n",
    " \n",
    "gradient_magnitude *= 255.0 / gradient_magnitude.max()\n",
    "\n",
    "plt.subplot(3,2,1),plt.imshow(img,cmap = 'gray')\n",
    "plt.title('Original'), plt.xticks([]), plt.yticks([])\n",
    "plt.subplot(3,2,2),plt.imshow(laplacian,cmap = 'gray')\n",
    "plt.title('Laplacian'), plt.xticks([]), plt.yticks([])\n",
    "plt.subplot(3,2,3),plt.imshow(sobelx,cmap = 'gray')\n",
    "plt.title('Sobel X'), plt.xticks([]), plt.yticks([])\n",
    "plt.subplot(3,2,4),plt.imshow(sobely,cmap = 'gray')\n",
    "plt.title('Sobel Y'), plt.xticks([]), plt.yticks([])\n",
    "\n",
    "plt.subplot(3,2,5),plt.imshow(gradient_magnitude,cmap = 'gray')\n",
    "plt.title('Gradient Magnitude'), plt.xticks([]), plt.yticks([])\n",
    "plt.show()"
   ]
  },
  {
   "cell_type": "code",
   "execution_count": 55,
   "id": "fbfe0b50",
   "metadata": {},
   "outputs": [
    {
     "name": "stdout",
     "output_type": "stream",
     "text": [
      "[[ True  True  True ... False False False]\n",
      " [ True  True  True ... False False False]\n",
      " [ True  True  True ... False False False]\n",
      " ...\n",
      " [ True  True  True ... False False  True]\n",
      " [ True  True  True ... False False  True]\n",
      " [ True  True  True ... False False  True]]\n"
     ]
    },
    {
     "data": {
      "text/plain": [
       "<matplotlib.image.AxesImage at 0x7f6dc93c12e0>"
      ]
     },
     "execution_count": 55,
     "metadata": {},
     "output_type": "execute_result"
    },
    {
     "data": {
      "image/png": "[encoded data removed]",
      "text/plain": [
       "<Figure size 432x288 with 1 Axes>"
      ]
     },
     "metadata": {},
     "output_type": "display_data"
    }
   ],
   "source": [
    "from skimage.filters import threshold_otsu\n",
    "#img = (first_picture_arr).astype(np.uint8)\n",
    "bw_img = (img >= threshold_otsu(img))\n",
    "print(bw_img)\n",
    "\n",
    "plt.imshow(bw_img,cmap='gray')"
   ]
  },
  {
   "cell_type": "code",
   "execution_count": 27,
   "id": "a6aa8bf3",
   "metadata": {},
   "outputs": [
    {
     "name": "stdout",
     "output_type": "stream",
     "text": [
      "[[ 62. -47. -15. ...  23.  -8.   8.]\n",
      " [ 29. -26.  -4. ...  23.   1. -22.]\n",
      " [ 18.  23. -47. ...  26. -12. -13.]\n",
      " ...\n",
      " [-71.  29. -25. ...  82. -34. -50.]\n",
      " [-44.  20. -24. ...  39. -37. -53.]\n",
      " [-40. -18.   9. ... -14. -42.  -6.]]\n"
     ]
    }
   ],
   "source": [
    "print(laplacian)"
   ]
  },
  {
   "cell_type": "markdown",
   "id": "496814de-fb1e-44b5-ac49-2bd379fa7901",
   "metadata": {},
   "source": [
    "## $H_0$ Stable Ranks for Embedding 2"
   ]
  },
  {
   "cell_type": "code",
   "execution_count": 62,
   "id": "9160a4b9",
   "metadata": {},
   "outputs": [
    {
     "data": {
      "image/png": "[encoded data removed]",
      "text/plain": [
       "<Figure size 720x720 with 1 Axes>"
      ]
     },
     "metadata": {},
     "output_type": "display_data"
    }
   ],
   "source": [
    "def getLaplacianFiltered(x):\n",
    "    first_picture_arr = np.array(x)\n",
    "    first_picture_arr.resize((48,48))\n",
    "    img = (first_picture_arr).astype(np.uint8)\n",
    "    img = cv.GaussianBlur(img,(3,3),0)\n",
    "    laplacian = cv.Laplacian(img,cv.CV_64F)\n",
    "    x = np.resize(laplacian,(48*48))\n",
    "    return x\n",
    "\n",
    "def getSobelFiltered(x):\n",
    "    first_picture_arr = np.array(x)\n",
    "    first_picture_arr.resize((48,48))\n",
    "    img = (first_picture_arr).astype(np.uint8)\n",
    "    img = cv.GaussianBlur(img,(3,3),0)\n",
    "    sobelx = cv.Sobel(img,cv.CV_64F,1,0,ksize=5)\n",
    "    sobely = cv.Sobel(img,cv.CV_64F,0,1,ksize=5)\n",
    "    gradient_magnitude = np.sqrt(np.square(sobelx) + np.square(sobely))\n",
    "    gradient_magnitude *= 255.0 / gradient_magnitude.max()\n",
    "    x = np.resize(gradient_magnitude,(48*48))\n",
    "    return x\n",
    "\n",
    "\n",
    "emotion_categories = [0,1,2,3,4,5,6]\n",
    "#emotion_categories = [1,6]\n",
    "emotion_names = [\"Angry\", \"Disgust\", \"Fear\", \"Happy\", \"Sad\", \"Surprise\", \"Neutral\"]\n",
    "colours=[\"red\",\"blue\",\"yellow\",\"orange\",\"green\",\"black\",\"purple\"]\n",
    "\n",
    "# specifying the number of pictures for subsampling\n",
    "number_of_pictures = 50# How many pictures per subsampling\n",
    "\n",
    "# specifying metric\n",
    "metric = \"euclidean\"\n",
    "metric_parameter = None\n",
    "\n",
    "# specifying clustering method\n",
    "clustering_method = \"average\"\n",
    "\n",
    "plt.figure(figsize=(10,10))\n",
    "\n",
    "for e in emotion_categories:\n",
    "    pos = np.array(np.where(df[\"emotion\"]==e))[0]\n",
    "    rand_pos = pos[list(np.random.permutation(np.arange(0,len(pos)-1))[:number_of_pictures])]\n",
    "    #rand_pos=pos\n",
    "    \n",
    "    # Calculate euclidean object for the first image\n",
    "    pixel_values_1 = [int(numeric_string) for numeric_string in df[\" pixels\"][rand_pos[0]].split(' ')]\n",
    "    \n",
    "    ##apply filter\n",
    "    pixel_values_1 = getLaplacianFiltered(pixel_values_1)\n",
    "    \n",
    "\n",
    "    image_dummy_1 = np.empty((48*48,3), int)\n",
    "    \n",
    "    for i in range(0,len(image_dummy_1)):\n",
    "        # Try out different normalizations:\n",
    "        # No normalization\n",
    "        # image_dummy_1[i] = [(i-i%48)/48, i%48, pixel_values_1[i]/255]\n",
    "        # Normalization\n",
    "        # image_dummy_1[i] = [(i-i%48)/48, i%48, 47*pixel_values_1[i]/255]\n",
    "        # Fully normalized\n",
    "        # image_dummy_1[i] = [((i-i%48)/48)/47, (i%48)/47, pixel_values_1[i]/255]\n",
    "        \n",
    "        # Working best: All values between 0 and 100\n",
    "        image_dummy_1[i] = [(100/47)*(i-i%48)/48, (100/47)*(i%48), (100/47)*(47*pixel_values_1[i]/255)]\n",
    "        \n",
    "    image_stacked_1 = np.vstack(image_dummy_1)\n",
    "    image_1 = sr.EucObject(image_stacked_1)\n",
    "    \n",
    "    # Add the pcf to the overall pcf but weighted to get the overall average in the end\n",
    "    f = image_1.get_h0sr(metric = metric, metric_parameter = metric_parameter)*(1/number_of_pictures)\n",
    "    \n",
    "    \n",
    "    # Calculate stable rank for the remaining images\n",
    "    for p in range(0,number_of_pictures):\n",
    "        \n",
    "        pixel_values_i = [int(numeric_string) for numeric_string in df[\" pixels\"][rand_pos[p]].split(' ')]\n",
    "\n",
    "        ##apply filter\n",
    "        pixel_values_i = getLaplacianFiltered(pixel_values_i)\n",
    "        \n",
    "        image_dummy_i = np.empty((48*48,3), int)\n",
    "        \n",
    "        for i in range(0,len(image_dummy_i)):\n",
    "            image_dummy_i[i] = [(100/47)*(i-i%48)/48, (100/47)*(i%48), (100/47)*(47*pixel_values_i[i]/255)]\n",
    "\n",
    "        image_stacked_i = np.vstack(image_dummy_i)\n",
    "        image_i = sr.EucObject(image_stacked_i)\n",
    "        \n",
    "        # Add the pcf to the overall pcf but weighted to get the overall average in the end\n",
    "        # f = f + image_i.get_h0sr(metric = metric, metric_parameter = metric_parameter)*(1/number_of_pictures)\n",
    "        \n",
    "        # Plot single pcf\n",
    "        f = image_i.get_h0sr(metric = metric, metric_parameter = metric_parameter)\n",
    "        f.plot(color=colours[emotion_categories.index(e)])\n",
    "    \n",
    "    # plot the average pcf\n",
    "    #f.plot(color=colours[emotion_categories.index(e)])"
   ]
  },
  {
   "cell_type": "markdown",
   "id": "77e7425b",
   "metadata": {},
   "source": [
    "## $H_1$ Stable Ranks for Embedding 2"
   ]
  },
  {
   "cell_type": "code",
   "execution_count": 67,
   "id": "1801875f",
   "metadata": {},
   "outputs": [
    {
     "data": {
      "image/png": "[encoded data removed]",
      "text/plain": [
       "<Figure size 720x720 with 1 Axes>"
      ]
     },
     "metadata": {},
     "output_type": "display_data"
    }
   ],
   "source": [
    "\n",
    "emotion_categories = [0,1,2,3,4,5,6]\n",
    "#emotion_categories = [1,5]\n",
    "emotion_names = [\"Angry\", \"Disgust\", \"Fear\", \"Happy\", \"Sad\", \"Surprise\", \"Neutral\"]\n",
    "colours=[\"red\",\"blue\",\"yellow\",\"orange\",\"green\",\"black\",\"purple\"]\n",
    "\n",
    "# specifying the number of pictures for subsampling\n",
    "number_of_pictures = 20# How many pictures per subsampling\n",
    "\n",
    "# specifying metric\n",
    "metric = \"euclidean\"\n",
    "metric_parameter = None\n",
    "\n",
    "# specifying clustering method\n",
    "clustering_method = \"single\"\n",
    "\n",
    "plt.figure(figsize=(10,10))\n",
    "\n",
    "for e in emotion_categories:\n",
    "    pos = np.array(np.where(df[\"emotion\"]==e))[0]\n",
    "    rand_pos = pos[list(np.random.permutation(np.arange(0,len(pos)-1))[:number_of_pictures])]\n",
    "    #rand_pos=pos\n",
    "    \n",
    "    # Calculate euclidean object for the first image\n",
    "    pixel_values_1 = [int(numeric_string) for numeric_string in df[\" pixels\"][rand_pos[0]].split(' ')]\n",
    "    \n",
    "    ##apply filter\n",
    "    #pixel_values_1 = getLaplacianFiltered(pixel_values_1)\n",
    "    \n",
    "\n",
    "    image_dummy_1 = np.empty((48*48,3), int)\n",
    "    \n",
    "    for i in range(0,len(image_dummy_1)):\n",
    "        # Try out different normalizations:\n",
    "        # No normalization\n",
    "        # image_dummy_1[i] = [(i-i%48)/48, i%48, pixel_values_1[i]/255]\n",
    "        # Normalization\n",
    "        # image_dummy_1[i] = [(i-i%48)/48, i%48, 47*pixel_values_1[i]/255]\n",
    "        # Fully normalized\n",
    "        # image_dummy_1[i] = [((i-i%48)/48)/47, (i%48)/47, pixel_values_1[i]/255]\n",
    "        \n",
    "        # Working best: All values between 0 and 100\n",
    "        image_dummy_1[i] = [(100/47)*(i-i%48)/48, (100/47)*(i%48), (100/47)*(47*pixel_values_1[i]/255)]\n",
    "        \n",
    "    image_stacked_1 = np.vstack(image_dummy_1)\n",
    "    image_1 = sr.EucObject(image_stacked_1)\n",
    "    \n",
    "    # Add the pcf to the overall pcf but weighted to get the overall average in the end\n",
    "    f = image_1.get_h0sr(metric = metric, metric_parameter = metric_parameter)*(1/number_of_pictures)\n",
    "    \n",
    "    \n",
    "    # Calculate stable rank for the remaining images\n",
    "    for p in range(0,number_of_pictures):\n",
    "        \n",
    "        pixel_values_i = [int(numeric_string) for numeric_string in df[\" pixels\"][rand_pos[p]].split(' ')]\n",
    "\n",
    "        ##apply filter\n",
    "        #pixel_values_i = getLaplacianFiltered(pixel_values_i)\n",
    "        \n",
    "        image_dummy_i = np.empty((48*48,3), int)\n",
    "        \n",
    "        for i in range(0,len(image_dummy_i)):\n",
    "            image_dummy_i[i] = [(100/47)*(i-i%48)/48, (100/47)*(i%48), (100/47)*(47*pixel_values_i[i]/255)]\n",
    "\n",
    "        image_stacked_i = np.vstack(image_dummy_i)\n",
    "        image_i = sr.EucObject(image_stacked_i)\n",
    "        \n",
    "        # Add the pcf to the overall pcf but weighted to get the overall average in the end\n",
    "        # f = f + image_i.get_h0sr(metric = metric, metric_parameter = metric_parameter)*(1/number_of_pictures)\n",
    "        \n",
    "        # Plot single pcf\n",
    "        bar_code = image_i.get_bc(metric = metric, metric_parameter = metric_parameter)\n",
    "        f = sr.bc_to_sr(bar_code, degree=\"H1\")\n",
    "        f.plot(color=colours[emotion_categories.index(e)])\n",
    "    \n",
    "    # plot the average pcf\n",
    "    #f.plot(color=colours[emotion_categories.index(e)])"
   ]
  },
  {
   "cell_type": "code",
   "execution_count": null,
   "id": "860c13e9",
   "metadata": {},
   "outputs": [],
   "source": []
  }
 ],
 "metadata": {
  "kernelspec": {
   "display_name": "Python 3 (ipykernel)",
   "language": "python",
   "name": "python3"
  },
  "language_info": {
   "codemirror_mode": {
    "name": "ipython",
    "version": 3
   },
   "file_extension": ".py",
   "mimetype": "text/x-python",
   "name": "python",
   "nbconvert_exporter": "python",
   "pygments_lexer": "ipython3",
   "version": "3.8.10"
  }
 },
 "nbformat": 4,
 "nbformat_minor": 5
}
