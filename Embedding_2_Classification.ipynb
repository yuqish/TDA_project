{
 "cells": [
  {
   "cell_type": "code",
   "execution_count": 4,
   "id": "65d27506-57d6-48f3-9af5-021ab174f4c1",
   "metadata": {},
   "outputs": [],
   "source": [
    "import numpy as np\n",
    "inf=float(\"inf\")\n",
    "\n",
    "import pandas as pd\n",
    "\n",
    "import matplotlib.pyplot as plt\n",
    "plt.style.use('ggplot')\n",
    "\n",
    "import scipy.stats as st\n",
    "\n",
    "import stablerank.srank as sr\n",
    "import stablerank.geometry_objects_2020 as ge\n",
    "\n",
    "from ipywidgets import interact, interactive, fixed, interact_manual\n",
    "import ipywidgets as widgets\n",
    "import _pickle as pickle\n",
    "\n",
    "from ripser import ripser\n",
    "from scipy.cluster.hierarchy import dendrogram, linkage, fcluster\n",
    "\n",
    "from PIL import Image\n",
    "from sklearn import svm"
   ]
  },
  {
   "cell_type": "markdown",
   "id": "fc303b38-5356-4150-93b9-c235e4b54489",
   "metadata": {},
   "source": [
    "### Import Pre-Computed PCNIF"
   ]
  },
  {
   "cell_type": "code",
   "execution_count": 54,
   "id": "af25691e-fbca-4b07-a619-b78a21d40d63",
   "metadata": {},
   "outputs": [],
   "source": [
    "# Read in dataframes\n",
    "df_1=pd.read_csv(\"Results/happy_80images_H1.csv\", sep=',')\n",
    "df_2=pd.read_csv(\"Results/angry_80images_H1.csv\", sep=',')\n",
    "\n",
    "# Set up empty arrays\n",
    "pcfs_1 = []\n",
    "pcfs_2 = []\n",
    "\n",
    "# Read in pcnifs\n",
    "l = len(df_1)\n",
    "\n",
    "for i in range(0,l):\n",
    "    pcfs_1.append(sr.Pcnif(df_1[\"content\"][i]))\n",
    "    pcfs_2.append(sr.Pcnif(df_1[\"content\"][i]))"
   ]
  },
  {
   "cell_type": "code",
   "execution_count": 17,
   "id": "73db4de2-4b5c-4ae7-ab39-390883c9bdae",
   "metadata": {},
   "outputs": [],
   "source": [
    "def my_kernel(X, Y):\n",
    "    return X.interleaving_distance(Y)"
   ]
  },
  {
   "cell_type": "code",
   "execution_count": 55,
   "id": "24e9ffc9-4c79-4238-b43d-cee96a0bf2a3",
   "metadata": {},
   "outputs": [
    {
     "data": {
      "text/html": [
       "<div>\n",
       "<style scoped>\n",
       "    .dataframe tbody tr th:only-of-type {\n",
       "        vertical-align: middle;\n",
       "    }\n",
       "\n",
       "    .dataframe tbody tr th {\n",
       "        vertical-align: top;\n",
       "    }\n",
       "\n",
       "    .dataframe thead th {\n",
       "        text-align: right;\n",
       "    }\n",
       "</style>\n",
       "<table border=\"1\" class=\"dataframe\">\n",
       "  <thead>\n",
       "    <tr style=\"text-align: right;\">\n",
       "      <th></th>\n",
       "      <th>Unnamed: 0</th>\n",
       "      <th>old index</th>\n",
       "      <th>content</th>\n",
       "    </tr>\n",
       "  </thead>\n",
       "  <tbody>\n",
       "    <tr>\n",
       "      <th>0</th>\n",
       "      <td>0</td>\n",
       "      <td>31958</td>\n",
       "      <td>[[0.00000000e+00 6.83593750e-02 7.41262436e-02...</td>\n",
       "    </tr>\n",
       "    <tr>\n",
       "      <th>1</th>\n",
       "      <td>1</td>\n",
       "      <td>1749</td>\n",
       "      <td>[[0.00000000e+00 6.83593750e-02 7.41262436e-02...</td>\n",
       "    </tr>\n",
       "    <tr>\n",
       "      <th>2</th>\n",
       "      <td>2</td>\n",
       "      <td>12081</td>\n",
       "      <td>[[0.00000000e+00 6.83593750e-02 7.41262436e-02...</td>\n",
       "    </tr>\n",
       "    <tr>\n",
       "      <th>3</th>\n",
       "      <td>3</td>\n",
       "      <td>4115</td>\n",
       "      <td>[[0.00000000e+00 6.83593750e-02 7.41262436e-02...</td>\n",
       "    </tr>\n",
       "    <tr>\n",
       "      <th>4</th>\n",
       "      <td>4</td>\n",
       "      <td>18289</td>\n",
       "      <td>[[0.00000000e+00 6.83593750e-02 7.41262436e-02...</td>\n",
       "    </tr>\n",
       "    <tr>\n",
       "      <th>...</th>\n",
       "      <td>...</td>\n",
       "      <td>...</td>\n",
       "      <td>...</td>\n",
       "    </tr>\n",
       "    <tr>\n",
       "      <th>75</th>\n",
       "      <td>75</td>\n",
       "      <td>19381</td>\n",
       "      <td>[[0.00000000e+00 6.83593750e-02 7.41262436e-02...</td>\n",
       "    </tr>\n",
       "    <tr>\n",
       "      <th>76</th>\n",
       "      <td>76</td>\n",
       "      <td>27155</td>\n",
       "      <td>[[0.00000000e+00 6.83593750e-02 7.41262436e-02...</td>\n",
       "    </tr>\n",
       "    <tr>\n",
       "      <th>77</th>\n",
       "      <td>77</td>\n",
       "      <td>1773</td>\n",
       "      <td>[[0.00000000e+00 6.83593750e-02 7.41262436e-02...</td>\n",
       "    </tr>\n",
       "    <tr>\n",
       "      <th>78</th>\n",
       "      <td>78</td>\n",
       "      <td>7613</td>\n",
       "      <td>[[0.00000000e+00 6.83593750e-02 7.41262436e-02...</td>\n",
       "    </tr>\n",
       "    <tr>\n",
       "      <th>79</th>\n",
       "      <td>79</td>\n",
       "      <td>32560</td>\n",
       "      <td>[[0.00000000e+00 6.83593750e-02 7.41262436e-02...</td>\n",
       "    </tr>\n",
       "  </tbody>\n",
       "</table>\n",
       "<p>80 rows × 3 columns</p>\n",
       "</div>"
      ],
      "text/plain": [
       "    Unnamed: 0  old index                                            content\n",
       "0            0      31958  [[0.00000000e+00 6.83593750e-02 7.41262436e-02...\n",
       "1            1       1749  [[0.00000000e+00 6.83593750e-02 7.41262436e-02...\n",
       "2            2      12081  [[0.00000000e+00 6.83593750e-02 7.41262436e-02...\n",
       "3            3       4115  [[0.00000000e+00 6.83593750e-02 7.41262436e-02...\n",
       "4            4      18289  [[0.00000000e+00 6.83593750e-02 7.41262436e-02...\n",
       "..         ...        ...                                                ...\n",
       "75          75      19381  [[0.00000000e+00 6.83593750e-02 7.41262436e-02...\n",
       "76          76      27155  [[0.00000000e+00 6.83593750e-02 7.41262436e-02...\n",
       "77          77       1773  [[0.00000000e+00 6.83593750e-02 7.41262436e-02...\n",
       "78          78       7613  [[0.00000000e+00 6.83593750e-02 7.41262436e-02...\n",
       "79          79      32560  [[0.00000000e+00 6.83593750e-02 7.41262436e-02...\n",
       "\n",
       "[80 rows x 3 columns]"
      ]
     },
     "execution_count": 55,
     "metadata": {},
     "output_type": "execute_result"
    }
   ],
   "source": [
    "df_1"
   ]
  },
  {
   "cell_type": "code",
   "execution_count": null,
   "id": "c531ccaa-7ad4-4a6b-bf22-b6ce21fafa1d",
   "metadata": {},
   "outputs": [],
   "source": [
    "clf.fit(X, Y)"
   ]
  }
 ],
 "metadata": {
  "kernelspec": {
   "display_name": "Python 3",
   "language": "python",
   "name": "python3"
  },
  "language_info": {
   "codemirror_mode": {
    "name": "ipython",
    "version": 3
   },
   "file_extension": ".py",
   "mimetype": "text/x-python",
   "name": "python",
   "nbconvert_exporter": "python",
   "pygments_lexer": "ipython3",
   "version": "3.8.10"
  }
 },
 "nbformat": 4,
 "nbformat_minor": 5
}
